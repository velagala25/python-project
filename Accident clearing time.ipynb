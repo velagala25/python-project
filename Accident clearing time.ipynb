{
 "cells": [
  {
   "cell_type": "markdown",
   "id": "5dac9a6a",
   "metadata": {},
   "source": [
    "# Regression\n",
    "\n",
    "### Data preparation"
   ]
  },
  {
   "cell_type": "code",
   "execution_count": 739,
   "id": "632f0fe4",
   "metadata": {},
   "outputs": [],
   "source": [
    "import pandas as pd\n",
    "import numpy as np \n",
    "import matplotlib.pyplot as plt\n",
    "import seaborn as sns\n",
    "import warnings\n",
    "warnings.filterwarnings('ignore')\n"
   ]
  },
  {
   "cell_type": "code",
   "execution_count": 602,
   "id": "5a94127d",
   "metadata": {},
   "outputs": [],
   "source": [
    "reg_train = pd.read_csv('Regression_train (1).csv')\n",
    "reg_test = pd.read_csv('Regression_test (1).csv')"
   ]
  },
  {
   "cell_type": "markdown",
   "id": "ebaeb4c4",
   "metadata": {},
   "source": [
    "finding rows with more than 3 missing values in a row... <br>\n",
    "there are 172 rows with more than 3 missing values."
   ]
  },
  {
   "cell_type": "code",
   "execution_count": 603,
   "id": "9d18dd9a",
   "metadata": {},
   "outputs": [
    {
     "data": {
      "text/html": [
       "<div>\n",
       "<style scoped>\n",
       "    .dataframe tbody tr th:only-of-type {\n",
       "        vertical-align: middle;\n",
       "    }\n",
       "\n",
       "    .dataframe tbody tr th {\n",
       "        vertical-align: top;\n",
       "    }\n",
       "\n",
       "    .dataframe thead th {\n",
       "        text-align: right;\n",
       "    }\n",
       "</style>\n",
       "<table border=\"1\" class=\"dataframe\">\n",
       "  <thead>\n",
       "    <tr style=\"text-align: right;\">\n",
       "      <th></th>\n",
       "      <th>Crash ID</th>\n",
       "      <th>Crash Severity</th>\n",
       "      <th>Crash Time</th>\n",
       "      <th>Day of Week</th>\n",
       "      <th>Manner of Collision</th>\n",
       "      <th>Speed Limit</th>\n",
       "      <th>Surface Condition</th>\n",
       "      <th>Surface Type</th>\n",
       "      <th>Surface Width</th>\n",
       "      <th>Weather Condition</th>\n",
       "      <th>Vehicle Body Style</th>\n",
       "      <th>Person Age</th>\n",
       "      <th>Person Alcohol Result</th>\n",
       "      <th>Person Drug Test Result</th>\n",
       "      <th>Person Ethnicity</th>\n",
       "      <th>Person Gender</th>\n",
       "      <th>y</th>\n",
       "    </tr>\n",
       "  </thead>\n",
       "  <tbody>\n",
       "    <tr>\n",
       "      <th>25</th>\n",
       "      <td>19524493</td>\n",
       "      <td>N - NOT INJURED</td>\n",
       "      <td>NaN</td>\n",
       "      <td>WEDNESDAY</td>\n",
       "      <td>SAME DIRECTION - BOTH GOING STRAIGHT-SIDESWIPE</td>\n",
       "      <td>60</td>\n",
       "      <td>1 - DRY</td>\n",
       "      <td>No Data</td>\n",
       "      <td>48</td>\n",
       "      <td>NaN</td>\n",
       "      <td>NaN</td>\n",
       "      <td>No Data</td>\n",
       "      <td>NaN</td>\n",
       "      <td>No Data</td>\n",
       "      <td>99 - UNKNOWN</td>\n",
       "      <td>2 - FEMALE</td>\n",
       "      <td>0</td>\n",
       "    </tr>\n",
       "    <tr>\n",
       "      <th>43</th>\n",
       "      <td>19640298</td>\n",
       "      <td>N - NOT INJURED</td>\n",
       "      <td>17:29:00</td>\n",
       "      <td>NaN</td>\n",
       "      <td>SAME DIRECTION - BOTH GOING STRAIGHT-REAR END</td>\n",
       "      <td>75</td>\n",
       "      <td>1 - DRY</td>\n",
       "      <td>No Data</td>\n",
       "      <td>48</td>\n",
       "      <td>NaN</td>\n",
       "      <td>SV - SPORT UTILITY VEHICLE</td>\n",
       "      <td>10</td>\n",
       "      <td>No Data</td>\n",
       "      <td>No Data</td>\n",
       "      <td>NaN</td>\n",
       "      <td>NaN</td>\n",
       "      <td>41</td>\n",
       "    </tr>\n",
       "    <tr>\n",
       "      <th>62</th>\n",
       "      <td>19656118</td>\n",
       "      <td>C - POSSIBLE INJURY</td>\n",
       "      <td>14:55:00</td>\n",
       "      <td>NaN</td>\n",
       "      <td>SAME DIRECTION - BOTH GOING STRAIGHT-SIDESWIPE</td>\n",
       "      <td>55</td>\n",
       "      <td>1 - DRY</td>\n",
       "      <td>No Data</td>\n",
       "      <td>No Data</td>\n",
       "      <td>NaN</td>\n",
       "      <td>P4 - PASSENGER CAR, 4-DOOR</td>\n",
       "      <td>43</td>\n",
       "      <td>NaN</td>\n",
       "      <td>97 - NOT APPLICABLE</td>\n",
       "      <td>B - BLACK</td>\n",
       "      <td>NaN</td>\n",
       "      <td>98</td>\n",
       "    </tr>\n",
       "    <tr>\n",
       "      <th>150</th>\n",
       "      <td>19751956</td>\n",
       "      <td>C - POSSIBLE INJURY</td>\n",
       "      <td>NaN</td>\n",
       "      <td>SATURDAY</td>\n",
       "      <td>SAME DIRECTION - BOTH GOING STRAIGHT-REAR END</td>\n",
       "      <td>55</td>\n",
       "      <td>1 - DRY</td>\n",
       "      <td>No Data</td>\n",
       "      <td>20</td>\n",
       "      <td>NaN</td>\n",
       "      <td>SV - SPORT UTILITY VEHICLE</td>\n",
       "      <td>61</td>\n",
       "      <td>No Data</td>\n",
       "      <td>NaN</td>\n",
       "      <td>W - WHITE</td>\n",
       "      <td>NaN</td>\n",
       "      <td>50</td>\n",
       "    </tr>\n",
       "    <tr>\n",
       "      <th>233</th>\n",
       "      <td>19656365</td>\n",
       "      <td>N - NOT INJURED</td>\n",
       "      <td>10:14:00</td>\n",
       "      <td>NaN</td>\n",
       "      <td>SAME DIRECTION - BOTH GOING STRAIGHT-SIDESWIPE</td>\n",
       "      <td>70</td>\n",
       "      <td>1 - DRY</td>\n",
       "      <td>No Data</td>\n",
       "      <td>NaN</td>\n",
       "      <td>1 - CLEAR</td>\n",
       "      <td>PK - PICKUP</td>\n",
       "      <td>72</td>\n",
       "      <td>NaN</td>\n",
       "      <td>No Data</td>\n",
       "      <td>NaN</td>\n",
       "      <td>2 - FEMALE</td>\n",
       "      <td>22</td>\n",
       "    </tr>\n",
       "    <tr>\n",
       "      <th>...</th>\n",
       "      <td>...</td>\n",
       "      <td>...</td>\n",
       "      <td>...</td>\n",
       "      <td>...</td>\n",
       "      <td>...</td>\n",
       "      <td>...</td>\n",
       "      <td>...</td>\n",
       "      <td>...</td>\n",
       "      <td>...</td>\n",
       "      <td>...</td>\n",
       "      <td>...</td>\n",
       "      <td>...</td>\n",
       "      <td>...</td>\n",
       "      <td>...</td>\n",
       "      <td>...</td>\n",
       "      <td>...</td>\n",
       "      <td>...</td>\n",
       "    </tr>\n",
       "    <tr>\n",
       "      <th>12673</th>\n",
       "      <td>19629827</td>\n",
       "      <td>N - NOT INJURED</td>\n",
       "      <td>NaN</td>\n",
       "      <td>NaN</td>\n",
       "      <td>ANGLE - ONE STRAIGHT-ONE LEFT TURN</td>\n",
       "      <td>35</td>\n",
       "      <td>1 - DRY</td>\n",
       "      <td>No Data</td>\n",
       "      <td>No Data</td>\n",
       "      <td>NaN</td>\n",
       "      <td>SV - SPORT UTILITY VEHICLE</td>\n",
       "      <td>82</td>\n",
       "      <td>No Data</td>\n",
       "      <td>97 - NOT APPLICABLE</td>\n",
       "      <td>W - WHITE</td>\n",
       "      <td>NaN</td>\n",
       "      <td>43</td>\n",
       "    </tr>\n",
       "    <tr>\n",
       "      <th>12719</th>\n",
       "      <td>19584615</td>\n",
       "      <td>N - NOT INJURED</td>\n",
       "      <td>11:33:00</td>\n",
       "      <td>FRIDAY</td>\n",
       "      <td>SAME DIRECTION - ONE STRAIGHT-ONE STOPPED</td>\n",
       "      <td>55</td>\n",
       "      <td>1 - DRY</td>\n",
       "      <td>No Data</td>\n",
       "      <td>NaN</td>\n",
       "      <td>1 - CLEAR</td>\n",
       "      <td>P4 - PASSENGER CAR, 4-DOOR</td>\n",
       "      <td>4</td>\n",
       "      <td>NaN</td>\n",
       "      <td>NaN</td>\n",
       "      <td>NaN</td>\n",
       "      <td>2 - FEMALE</td>\n",
       "      <td>18</td>\n",
       "    </tr>\n",
       "    <tr>\n",
       "      <th>12813</th>\n",
       "      <td>19653696</td>\n",
       "      <td>N - NOT INJURED</td>\n",
       "      <td>NaN</td>\n",
       "      <td>FRIDAY</td>\n",
       "      <td>SAME DIRECTION - ONE STRAIGHT-ONE STOPPED</td>\n",
       "      <td>40</td>\n",
       "      <td>1 - DRY</td>\n",
       "      <td>No Data</td>\n",
       "      <td>No Data</td>\n",
       "      <td>1 - CLEAR</td>\n",
       "      <td>NaN</td>\n",
       "      <td>19</td>\n",
       "      <td>NaN</td>\n",
       "      <td>NaN</td>\n",
       "      <td>B - BLACK</td>\n",
       "      <td>1 - MALE</td>\n",
       "      <td>60</td>\n",
       "    </tr>\n",
       "    <tr>\n",
       "      <th>12908</th>\n",
       "      <td>19635305</td>\n",
       "      <td>B - SUSPECTED MINOR INJURY</td>\n",
       "      <td>NaN</td>\n",
       "      <td>NaN</td>\n",
       "      <td>SAME DIRECTION - BOTH GOING STRAIGHT-REAR END</td>\n",
       "      <td>70</td>\n",
       "      <td>1 - DRY</td>\n",
       "      <td>No Data</td>\n",
       "      <td>92</td>\n",
       "      <td>1 - CLEAR</td>\n",
       "      <td>SV - SPORT UTILITY VEHICLE</td>\n",
       "      <td>NaN</td>\n",
       "      <td>No Data</td>\n",
       "      <td>97 - NOT APPLICABLE</td>\n",
       "      <td>NaN</td>\n",
       "      <td>1 - MALE</td>\n",
       "      <td>67</td>\n",
       "    </tr>\n",
       "    <tr>\n",
       "      <th>12910</th>\n",
       "      <td>19604390</td>\n",
       "      <td>N - NOT INJURED</td>\n",
       "      <td>23:14:00</td>\n",
       "      <td>NaN</td>\n",
       "      <td>SAME DIRECTION - BOTH GOING STRAIGHT-SIDESWIPE</td>\n",
       "      <td>30</td>\n",
       "      <td>1 - DRY</td>\n",
       "      <td>No Data</td>\n",
       "      <td>No Data</td>\n",
       "      <td>1 - CLEAR</td>\n",
       "      <td>PK - PICKUP</td>\n",
       "      <td>23</td>\n",
       "      <td>NaN</td>\n",
       "      <td>97 - NOT APPLICABLE</td>\n",
       "      <td>NaN</td>\n",
       "      <td>NaN</td>\n",
       "      <td>30</td>\n",
       "    </tr>\n",
       "  </tbody>\n",
       "</table>\n",
       "<p>172 rows × 17 columns</p>\n",
       "</div>"
      ],
      "text/plain": [
       "       Crash ID              Crash Severity Crash Time Day of Week  \\\n",
       "25     19524493             N - NOT INJURED        NaN   WEDNESDAY   \n",
       "43     19640298             N - NOT INJURED   17:29:00         NaN   \n",
       "62     19656118         C - POSSIBLE INJURY   14:55:00         NaN   \n",
       "150    19751956         C - POSSIBLE INJURY        NaN    SATURDAY   \n",
       "233    19656365             N - NOT INJURED   10:14:00         NaN   \n",
       "...         ...                         ...        ...         ...   \n",
       "12673  19629827             N - NOT INJURED        NaN         NaN   \n",
       "12719  19584615             N - NOT INJURED   11:33:00      FRIDAY   \n",
       "12813  19653696             N - NOT INJURED        NaN      FRIDAY   \n",
       "12908  19635305  B - SUSPECTED MINOR INJURY        NaN         NaN   \n",
       "12910  19604390             N - NOT INJURED   23:14:00         NaN   \n",
       "\n",
       "                                  Manner of Collision  Speed Limit  \\\n",
       "25     SAME DIRECTION - BOTH GOING STRAIGHT-SIDESWIPE           60   \n",
       "43      SAME DIRECTION - BOTH GOING STRAIGHT-REAR END           75   \n",
       "62     SAME DIRECTION - BOTH GOING STRAIGHT-SIDESWIPE           55   \n",
       "150     SAME DIRECTION - BOTH GOING STRAIGHT-REAR END           55   \n",
       "233    SAME DIRECTION - BOTH GOING STRAIGHT-SIDESWIPE           70   \n",
       "...                                               ...          ...   \n",
       "12673              ANGLE - ONE STRAIGHT-ONE LEFT TURN           35   \n",
       "12719       SAME DIRECTION - ONE STRAIGHT-ONE STOPPED           55   \n",
       "12813       SAME DIRECTION - ONE STRAIGHT-ONE STOPPED           40   \n",
       "12908   SAME DIRECTION - BOTH GOING STRAIGHT-REAR END           70   \n",
       "12910  SAME DIRECTION - BOTH GOING STRAIGHT-SIDESWIPE           30   \n",
       "\n",
       "      Surface Condition Surface Type Surface Width Weather Condition  \\\n",
       "25              1 - DRY      No Data            48               NaN   \n",
       "43              1 - DRY      No Data            48               NaN   \n",
       "62              1 - DRY      No Data       No Data               NaN   \n",
       "150             1 - DRY      No Data            20               NaN   \n",
       "233             1 - DRY      No Data           NaN         1 - CLEAR   \n",
       "...                 ...          ...           ...               ...   \n",
       "12673           1 - DRY      No Data       No Data               NaN   \n",
       "12719           1 - DRY      No Data           NaN         1 - CLEAR   \n",
       "12813           1 - DRY      No Data       No Data         1 - CLEAR   \n",
       "12908           1 - DRY      No Data            92         1 - CLEAR   \n",
       "12910           1 - DRY      No Data       No Data         1 - CLEAR   \n",
       "\n",
       "               Vehicle Body Style Person Age Person Alcohol Result  \\\n",
       "25                            NaN    No Data                   NaN   \n",
       "43     SV - SPORT UTILITY VEHICLE         10               No Data   \n",
       "62     P4 - PASSENGER CAR, 4-DOOR         43                   NaN   \n",
       "150    SV - SPORT UTILITY VEHICLE         61               No Data   \n",
       "233                   PK - PICKUP         72                   NaN   \n",
       "...                           ...        ...                   ...   \n",
       "12673  SV - SPORT UTILITY VEHICLE         82               No Data   \n",
       "12719  P4 - PASSENGER CAR, 4-DOOR          4                   NaN   \n",
       "12813                         NaN         19                   NaN   \n",
       "12908  SV - SPORT UTILITY VEHICLE        NaN               No Data   \n",
       "12910                 PK - PICKUP         23                   NaN   \n",
       "\n",
       "      Person Drug Test Result Person Ethnicity Person Gender   y  \n",
       "25                    No Data     99 - UNKNOWN    2 - FEMALE   0  \n",
       "43                    No Data              NaN           NaN  41  \n",
       "62        97 - NOT APPLICABLE        B - BLACK           NaN  98  \n",
       "150                       NaN        W - WHITE           NaN  50  \n",
       "233                   No Data              NaN    2 - FEMALE  22  \n",
       "...                       ...              ...           ...  ..  \n",
       "12673     97 - NOT APPLICABLE        W - WHITE           NaN  43  \n",
       "12719                     NaN              NaN    2 - FEMALE  18  \n",
       "12813                     NaN        B - BLACK      1 - MALE  60  \n",
       "12908     97 - NOT APPLICABLE              NaN      1 - MALE  67  \n",
       "12910     97 - NOT APPLICABLE              NaN           NaN  30  \n",
       "\n",
       "[172 rows x 17 columns]"
      ]
     },
     "execution_count": 603,
     "metadata": {},
     "output_type": "execute_result"
    }
   ],
   "source": [
    "missing_values_count = reg_train.isnull().sum(axis=1)\n",
    "rows_with_more_than_3_missing_values = reg_train[missing_values_count > 3]\n",
    "rows_with_more_than_3_missing_values"
   ]
  },
  {
   "cell_type": "code",
   "execution_count": 604,
   "id": "e0299a47",
   "metadata": {},
   "outputs": [
    {
     "data": {
      "text/plain": [
       "(13041, 17)"
      ]
     },
     "execution_count": 604,
     "metadata": {},
     "output_type": "execute_result"
    }
   ],
   "source": [
    "reg_train.shape"
   ]
  },
  {
   "cell_type": "code",
   "execution_count": 605,
   "id": "7d21f3c0",
   "metadata": {},
   "outputs": [
    {
     "data": {
      "text/plain": [
       "Index(['Crash ID', 'Crash Severity', 'Crash Time', 'Day of Week',\n",
       "       'Manner of Collision', 'Speed Limit', 'Surface Condition',\n",
       "       'Surface Type', 'Surface Width', 'Weather Condition',\n",
       "       'Vehicle Body Style', 'Person Age', 'Person Alcohol Result',\n",
       "       'Person Drug Test Result', 'Person Ethnicity', 'Person Gender', 'y'],\n",
       "      dtype='object')"
      ]
     },
     "execution_count": 605,
     "metadata": {},
     "output_type": "execute_result"
    }
   ],
   "source": [
    "reg_train.columns"
   ]
  },
  {
   "cell_type": "markdown",
   "id": "c24423ea",
   "metadata": {},
   "source": [
    "Since 'Crash ID' is int type, preprocess the 'Crash Severity' column."
   ]
  },
  {
   "cell_type": "code",
   "execution_count": 606,
   "id": "1605c077",
   "metadata": {
    "scrolled": true
   },
   "outputs": [
    {
     "data": {
      "text/plain": [
       "N - NOT INJURED                 8688\n",
       "B - SUSPECTED MINOR INJURY      1897\n",
       "C - POSSIBLE INJURY             1861\n",
       "A - SUSPECTED SERIOUS INJURY     310\n",
       "99 - UNKNOWN                     245\n",
       "K - FATAL INJURY                  40\n",
       "Name: Crash Severity, dtype: int64"
      ]
     },
     "execution_count": 606,
     "metadata": {},
     "output_type": "execute_result"
    }
   ],
   "source": [
    "reg_train['Crash Severity'].value_counts()"
   ]
  },
  {
   "cell_type": "code",
   "execution_count": 607,
   "id": "ee13718a",
   "metadata": {},
   "outputs": [],
   "source": [
    "reg_train['Crash Severity'].fillna(reg_train['Crash Severity'].mode()[0], inplace=True)"
   ]
  },
  {
   "cell_type": "code",
   "execution_count": 608,
   "id": "98a03589",
   "metadata": {},
   "outputs": [
    {
     "data": {
      "image/png": "[encoded data removed]",
      "text/plain": [
       "<Figure size 1008x576 with 1 Axes>"
      ]
     },
     "metadata": {
      "needs_background": "light"
     },
     "output_type": "display_data"
    }
   ],
   "source": [
    "plt.figure(figsize=(14, 8)) \n",
    "sns.countplot(x='Crash Severity', data=reg_train)\n",
    "plt.title('Distribution of Crash Severity')\n",
    "plt.xlabel('Crash Severity')\n",
    "plt.ylabel('Count')\n",
    "plt.show()\n",
    "\n"
   ]
  },
  {
   "cell_type": "code",
   "execution_count": 609,
   "id": "ff908037",
   "metadata": {},
   "outputs": [],
   "source": [
    "reg_train = pd.get_dummies(reg_train, columns=['Crash Severity'], drop_first=True)"
   ]
  },
  {
   "cell_type": "code",
   "execution_count": 610,
   "id": "8a72b0b0",
   "metadata": {},
   "outputs": [
    {
     "data": {
      "text/plain": [
       "Index(['Crash ID', 'Crash Time', 'Day of Week', 'Manner of Collision',\n",
       "       'Speed Limit', 'Surface Condition', 'Surface Type', 'Surface Width',\n",
       "       'Weather Condition', 'Vehicle Body Style', 'Person Age',\n",
       "       'Person Alcohol Result', 'Person Drug Test Result', 'Person Ethnicity',\n",
       "       'Person Gender', 'y', 'Crash Severity_A - SUSPECTED SERIOUS INJURY',\n",
       "       'Crash Severity_B - SUSPECTED MINOR INJURY',\n",
       "       'Crash Severity_C - POSSIBLE INJURY', 'Crash Severity_K - FATAL INJURY',\n",
       "       'Crash Severity_N - NOT INJURED'],\n",
       "      dtype='object')"
      ]
     },
     "execution_count": 610,
     "metadata": {},
     "output_type": "execute_result"
    }
   ],
   "source": [
    "reg_train.columns"
   ]
  },
  {
   "cell_type": "markdown",
   "id": "ebab0d45",
   "metadata": {},
   "source": [
    "Preprocessing `reg_train['Crash Time']` column... "
   ]
  },
  {
   "cell_type": "code",
   "execution_count": 611,
   "id": "9b135ded",
   "metadata": {},
   "outputs": [
    {
     "data": {
      "text/plain": [
       "1320"
      ]
     },
     "execution_count": 611,
     "metadata": {},
     "output_type": "execute_result"
    }
   ],
   "source": [
    "reg_train['Crash Time'].isnull().sum()"
   ]
  },
  {
   "cell_type": "code",
   "execution_count": 612,
   "id": "0b1ed90e",
   "metadata": {},
   "outputs": [
    {
     "data": {
      "text/plain": [
       "0.10121923165401427"
      ]
     },
     "execution_count": 612,
     "metadata": {},
     "output_type": "execute_result"
    }
   ],
   "source": [
    "reg_train['Crash Time'].isnull().sum()/reg_train.shape[0]"
   ]
  },
  {
   "cell_type": "markdown",
   "id": "b6201342",
   "metadata": {},
   "source": [
    "About 10% of the data has NaN values in it. Fillig this data with the mode of the column."
   ]
  },
  {
   "cell_type": "code",
   "execution_count": 613,
   "id": "eb9a3f83",
   "metadata": {},
   "outputs": [],
   "source": [
    "reg_train['Crash Time'].fillna(reg_train['Crash Time'].mode()[0], inplace=True)\n",
    "\n",
    "reg_train['Crash Time'] = pd.to_datetime(reg_train['Crash Time'])\n",
    "\n",
    "reg_train['Hour'] = reg_train['Crash Time'].dt.hour\n",
    "reg_train['Minute'] = reg_train['Crash Time'].dt.minute\n",
    "reg_train['Second'] = reg_train['Crash Time'].dt.second\n",
    "\n",
    "reg_train.drop('Crash Time', axis=1, inplace=True)"
   ]
  },
  {
   "cell_type": "markdown",
   "id": "ac6525ef",
   "metadata": {},
   "source": [
    "Preprocessing `reg_train['Day of Week']` column..."
   ]
  },
  {
   "cell_type": "code",
   "execution_count": 614,
   "id": "22de4d40",
   "metadata": {},
   "outputs": [],
   "source": [
    "reg_train['Day of Week'].fillna(reg_train['Day of Week'].mode()[0], inplace=True)"
   ]
  },
  {
   "cell_type": "code",
   "execution_count": 615,
   "id": "8a75d58f",
   "metadata": {},
   "outputs": [
    {
     "data": {
      "image/png": "[encoded data removed]",
      "text/plain": [
       "<Figure size 1008x576 with 1 Axes>"
      ]
     },
     "metadata": {
      "needs_background": "light"
     },
     "output_type": "display_data"
    }
   ],
   "source": [
    "plt.figure(figsize=(14, 8)) \n",
    "sns.countplot(x='Day of Week', data=reg_train)\n",
    "plt.title('Distribution of Day of Week')\n",
    "plt.xlabel('Day of Week')\n",
    "plt.ylabel('Count')\n",
    "plt.show()"
   ]
  },
  {
   "cell_type": "code",
   "execution_count": 616,
   "id": "0b199e0f",
   "metadata": {},
   "outputs": [],
   "source": [
    "reg_train = pd.get_dummies(reg_train, columns=['Day of Week'], drop_first=True)"
   ]
  },
  {
   "cell_type": "markdown",
   "id": "bff51c6f",
   "metadata": {},
   "source": [
    "Preprocessing `reg_train['Manner of Collision']` column... "
   ]
  },
  {
   "cell_type": "code",
   "execution_count": 617,
   "id": "5af0ea67",
   "metadata": {},
   "outputs": [
    {
     "data": {
      "text/plain": [
       "{0: 'ANGLE - BOTH GOING STRAIGHT',\n",
       " 1: 'ANGLE - BOTH LEFT TURN',\n",
       " 2: 'ANGLE - BOTH RIGHT TURN',\n",
       " 3: 'ANGLE - ONE LEFT TURN-ONE STOPPED',\n",
       " 4: 'ANGLE - ONE RIGHT TURN-ONE LEFT TURN',\n",
       " 5: 'ANGLE - ONE RIGHT TURN-ONE STOPPED',\n",
       " 6: 'ANGLE - ONE STRAIGHT-ONE BACKING',\n",
       " 7: 'ANGLE - ONE STRAIGHT-ONE LEFT TURN',\n",
       " 8: 'ANGLE - ONE STRAIGHT-ONE RIGHT TURN',\n",
       " 9: 'ANGLE - ONE STRAIGHT-ONE STOPPED',\n",
       " 10: 'ONE MOTOR VEHICLE - BACKING',\n",
       " 11: 'ONE MOTOR VEHICLE - GOING STRAIGHT',\n",
       " 12: 'ONE MOTOR VEHICLE - OTHER',\n",
       " 13: 'ONE MOTOR VEHICLE - TURNING LEFT',\n",
       " 14: 'ONE MOTOR VEHICLE - TURNING RIGHT',\n",
       " 15: 'OPPOSITE DIRECTION - BOTH GOING STRAIGHT',\n",
       " 16: 'OPPOSITE DIRECTION - BOTH LEFT TURNS',\n",
       " 17: 'OPPOSITE DIRECTION - ONE BACKING-ONE STOPPED',\n",
       " 18: 'OPPOSITE DIRECTION - ONE RIGHT TURN-ONE LEFT TURN',\n",
       " 19: 'OPPOSITE DIRECTION - ONE STRAIGHT-ONE BACKING',\n",
       " 20: 'OPPOSITE DIRECTION - ONE STRAIGHT-ONE LEFT TURN',\n",
       " 21: 'OPPOSITE DIRECTION - ONE STRAIGHT-ONE STOPPED',\n",
       " 22: 'OTHER',\n",
       " 23: 'OTHER - BOTH BACKING',\n",
       " 24: 'OTHER - ONE ENTERING OR LEAVING PARKING SPACE-ONE STOPPED',\n",
       " 25: 'OTHER - ONE LEFT TURN-ONE ENTERING OR LEAVING PARKING SPACE',\n",
       " 26: 'OTHER - ONE STRAIGHT-ONE ENTERING OR LEAVING PARKING SPACE',\n",
       " 27: 'SAME DIRECTION - BOTH GOING STRAIGHT-REAR END',\n",
       " 28: 'SAME DIRECTION - BOTH GOING STRAIGHT-SIDESWIPE',\n",
       " 29: 'SAME DIRECTION - BOTH LEFT TURN',\n",
       " 30: 'SAME DIRECTION - BOTH RIGHT TURN',\n",
       " 31: 'SAME DIRECTION - ONE LEFT TURN-ONE STOPPED',\n",
       " 32: 'SAME DIRECTION - ONE RIGHT TURN-ONE STOPPED',\n",
       " 33: 'SAME DIRECTION - ONE STRAIGHT-ONE LEFT TURN',\n",
       " 34: 'SAME DIRECTION - ONE STRAIGHT-ONE RIGHT TURN',\n",
       " 35: 'SAME DIRECTION - ONE STRAIGHT-ONE STOPPED'}"
      ]
     },
     "execution_count": 617,
     "metadata": {},
     "output_type": "execute_result"
    }
   ],
   "source": [
    "codes = reg_train['Manner of Collision'].astype('category').cat.codes\n",
    "mapping = dict(enumerate(reg_train['Manner of Collision'].astype('category').cat.categories))\n",
    "reg_train['Manner of Collision Labels'] = reg_train['Manner of Collision'].astype('category').cat.codes\n",
    "mapping"
   ]
  },
  {
   "cell_type": "code",
   "execution_count": 618,
   "id": "38335efb",
   "metadata": {},
   "outputs": [
    {
     "data": {
      "image/png": "[encoded data removed]",
      "text/plain": [
       "<Figure size 1296x576 with 1 Axes>"
      ]
     },
     "metadata": {
      "needs_background": "light"
     },
     "output_type": "display_data"
    }
   ],
   "source": [
    "plt.figure(figsize=(18, 8)) \n",
    "sns.countplot(x='Manner of Collision', data=reg_train)\n",
    "plt.title('Distribution of Manner of Collision')\n",
    "plt.xlabel('Manner of Collision')\n",
    "plt.ylabel('Count')\n",
    "plt.xticks(rotation=90, ha='center')\n",
    "plt.show()"
   ]
  },
  {
   "cell_type": "code",
   "execution_count": 619,
   "id": "1b83514e",
   "metadata": {},
   "outputs": [],
   "source": [
    "reg_train.drop('Manner of Collision', axis=1, inplace=True)"
   ]
  },
  {
   "cell_type": "markdown",
   "id": "f25776d2",
   "metadata": {},
   "source": [
    "Preprocessing `reg_train['Surface Condition']` column... "
   ]
  },
  {
   "cell_type": "code",
   "execution_count": 620,
   "id": "411d69ba",
   "metadata": {},
   "outputs": [
    {
     "data": {
      "text/plain": [
       "1 - DRY                              12122\n",
       "2 - WET                                845\n",
       "99 - UNKNOWN                            35\n",
       "3 - STANDING WATER                      17\n",
       "7 - SAND, MUD, DIRT                     11\n",
       "98 - OTHER (EXPLAIN IN NARRATIVE)       11\n",
       "Name: Surface Condition, dtype: int64"
      ]
     },
     "execution_count": 620,
     "metadata": {},
     "output_type": "execute_result"
    }
   ],
   "source": [
    "reg_train['Surface Condition'].value_counts()"
   ]
  },
  {
   "cell_type": "code",
   "execution_count": 621,
   "id": "3070d39e",
   "metadata": {},
   "outputs": [],
   "source": [
    "#replacing both 99 - UNKNOWN  and 98 - OTHER (EXPLAIN IN NARRATIVE) values with 1 - DRY\n",
    "reg_train['Surface Condition'].fillna(reg_train['Surface Condition'].mode()[0], inplace=True)\n",
    "\n",
    "reg_train['Surface Condition'] = reg_train['Surface Condition'].replace('99 - UNKNOWN', reg_train['Surface Condition'].mode()[0])\n"
   ]
  },
  {
   "cell_type": "code",
   "execution_count": 622,
   "id": "273833c5",
   "metadata": {},
   "outputs": [
    {
     "data": {
      "image/png": "[encoded data removed]",
      "text/plain": [
       "<Figure size 1152x576 with 1 Axes>"
      ]
     },
     "metadata": {
      "needs_background": "light"
     },
     "output_type": "display_data"
    }
   ],
   "source": [
    "plt.figure(figsize=(16, 8)) \n",
    "sns.countplot(x='Surface Condition', data=reg_train)\n",
    "plt.title('Distribution of Surface Condition')\n",
    "plt.xlabel('Surface Condition')\n",
    "plt.ylabel('Count')\n",
    "plt.show()"
   ]
  },
  {
   "cell_type": "code",
   "execution_count": 623,
   "id": "8ec5f5cb",
   "metadata": {},
   "outputs": [],
   "source": [
    "reg_train = pd.get_dummies(reg_train, columns=['Surface Condition'], drop_first=True)"
   ]
  },
  {
   "cell_type": "markdown",
   "id": "26cd0e0f",
   "metadata": {},
   "source": [
    "Since `reg_train['Surface Type']` column has no data in it. We drop this column."
   ]
  },
  {
   "cell_type": "code",
   "execution_count": 624,
   "id": "43aea8ac",
   "metadata": {},
   "outputs": [
    {
     "data": {
      "text/plain": [
       "No Data    13041\n",
       "Name: Surface Type, dtype: int64"
      ]
     },
     "execution_count": 624,
     "metadata": {},
     "output_type": "execute_result"
    }
   ],
   "source": [
    "reg_train['Surface Type'].value_counts()"
   ]
  },
  {
   "cell_type": "code",
   "execution_count": 625,
   "id": "209d1157",
   "metadata": {},
   "outputs": [],
   "source": [
    "reg_train.drop('Surface Type', axis=1, inplace=True)"
   ]
  },
  {
   "cell_type": "markdown",
   "id": "d2d82218",
   "metadata": {},
   "source": [
    "Since `reg_train['Surface Width']` has more than 50% of missing data. We drop this column."
   ]
  },
  {
   "cell_type": "code",
   "execution_count": 626,
   "id": "2f46dce7",
   "metadata": {},
   "outputs": [
    {
     "data": {
      "text/plain": [
       "No Data    5174\n",
       "72         2332\n",
       "48         1755\n",
       "24          466\n",
       "64          420\n",
       "66          189\n",
       "22          182\n",
       "50          162\n",
       "20          146\n",
       "88          144\n",
       "44          129\n",
       "55           99\n",
       "84           77\n",
       "52           63\n",
       "76           59\n",
       "92           51\n",
       "78           49\n",
       "28           39\n",
       "65           36\n",
       "89           35\n",
       "67           30\n",
       "40           30\n",
       "74           21\n",
       "69           19\n",
       "38           12\n",
       "26            4\n",
       "58            3\n",
       "36            3\n",
       "62            2\n",
       "Name: Surface Width, dtype: int64"
      ]
     },
     "execution_count": 626,
     "metadata": {},
     "output_type": "execute_result"
    }
   ],
   "source": [
    "reg_train['Surface Width'].value_counts()"
   ]
  },
  {
   "cell_type": "code",
   "execution_count": 627,
   "id": "e3bed46c",
   "metadata": {},
   "outputs": [],
   "source": [
    "reg_train.drop('Surface Width', axis=1, inplace=True)"
   ]
  },
  {
   "cell_type": "markdown",
   "id": "6bb9b259",
   "metadata": {},
   "source": [
    "Preprocessing `reg_train['Weather Condition']` column..."
   ]
  },
  {
   "cell_type": "code",
   "execution_count": 628,
   "id": "1e278b78",
   "metadata": {},
   "outputs": [
    {
     "data": {
      "text/plain": [
       "1 - CLEAR                            9947\n",
       "2 - CLOUDY                           1194\n",
       "3 - RAIN                              512\n",
       "99 - UNKNOWN                           40\n",
       "6 - FOG                                 9\n",
       "98 - OTHER (EXPLAIN IN NARRATIVE)       8\n",
       "Name: Weather Condition, dtype: int64"
      ]
     },
     "execution_count": 628,
     "metadata": {},
     "output_type": "execute_result"
    }
   ],
   "source": [
    "reg_train['Weather Condition'].value_counts()"
   ]
  },
  {
   "cell_type": "code",
   "execution_count": 629,
   "id": "d795c737",
   "metadata": {},
   "outputs": [],
   "source": [
    "#replacing both 99 - UNKNOWN  and 98 - OTHER (EXPLAIN IN NARRATIVE) values with 1 - CLEAR\n",
    "reg_train['Weather Condition'].fillna(reg_train['Weather Condition'].mode()[0], inplace=True)\n",
    "\n",
    "reg_train['Weather Condition'] = reg_train['Weather Condition'].replace('98 - OTHER (EXPLAIN IN NARRATIVE)', reg_train['Weather Condition'].mode()[0])\n",
    "reg_train['Weather Condition'] = reg_train['Weather Condition'].replace('99 - UNKNOWN', reg_train['Weather Condition'].mode()[0])\n"
   ]
  },
  {
   "cell_type": "code",
   "execution_count": 630,
   "id": "c772a0e8",
   "metadata": {},
   "outputs": [
    {
     "data": {
      "image/png": "[encoded data removed]",
      "text/plain": [
       "<Figure size 1152x432 with 1 Axes>"
      ]
     },
     "metadata": {
      "needs_background": "light"
     },
     "output_type": "display_data"
    }
   ],
   "source": [
    "plt.figure(figsize=(16, 6)) \n",
    "sns.countplot(x='Weather Condition', data=reg_train)\n",
    "plt.title('Distribution of Weather Condition')\n",
    "plt.xlabel('Weather Condition')\n",
    "plt.ylabel('Count')\n",
    "plt.show()"
   ]
  },
  {
   "cell_type": "code",
   "execution_count": 631,
   "id": "9915473a",
   "metadata": {},
   "outputs": [],
   "source": [
    "\n",
    "reg_train = pd.get_dummies(reg_train, columns=['Weather Condition'], drop_first=True)"
   ]
  },
  {
   "cell_type": "markdown",
   "id": "7294e584",
   "metadata": {},
   "source": [
    "Preprocessing `reg_train['Vehicle Body Style']` column..."
   ]
  },
  {
   "cell_type": "code",
   "execution_count": 632,
   "id": "2436db19",
   "metadata": {},
   "outputs": [
    {
     "data": {
      "text/plain": [
       "1322"
      ]
     },
     "execution_count": 632,
     "metadata": {},
     "output_type": "execute_result"
    }
   ],
   "source": [
    "reg_train['Vehicle Body Style'].isnull().sum()"
   ]
  },
  {
   "cell_type": "code",
   "execution_count": 633,
   "id": "14c7503f",
   "metadata": {},
   "outputs": [
    {
     "data": {
      "text/plain": [
       "array(['BU - BUS', 'SV - SPORT UTILITY VEHICLE',\n",
       "       'P4 - PASSENGER CAR, 4-DOOR', 'PK - PICKUP',\n",
       "       'P2 - PASSENGER CAR, 2-DOOR', 'TR - TRUCK', 'No Data', 'VN - VAN',\n",
       "       nan, '99 - UNKNOWN', 'TT - TRUCK TRACTOR',\n",
       "       'SB - YELLOW SCHOOL BUS', '98 - OTHER  (EXPLAIN IN NARRATIVE)',\n",
       "       'EV - NEV-NEIGHBORHOOD ELECTRIC VEHICLE', 'PC - POLICE CAR/TRUCK',\n",
       "       'AM - AMBULANCE', 'MC - MOTORCYCLE', 'FT - FIRE TRUCK',\n",
       "       'TL - TRAILER, SEMI-TRAILER, OR POLE TRAILER'], dtype=object)"
      ]
     },
     "execution_count": 633,
     "metadata": {},
     "output_type": "execute_result"
    }
   ],
   "source": [
    "reg_train['Vehicle Body Style'].unique()"
   ]
  },
  {
   "cell_type": "code",
   "execution_count": 634,
   "id": "726072cd",
   "metadata": {},
   "outputs": [
    {
     "data": {
      "text/plain": [
       "P4 - PASSENGER CAR, 4-DOOR                     4336\n",
       "SV - SPORT UTILITY VEHICLE                     3301\n",
       "PK - PICKUP                                    1855\n",
       "VN - VAN                                        466\n",
       "P2 - PASSENGER CAR, 2-DOOR                      440\n",
       "99 - UNKNOWN                                    330\n",
       "TR - TRUCK                                      300\n",
       "TT - TRUCK TRACTOR                              204\n",
       "MC - MOTORCYCLE                                 100\n",
       "BU - BUS                                         98\n",
       "SB - YELLOW SCHOOL BUS                           98\n",
       "No Data                                          91\n",
       "98 - OTHER  (EXPLAIN IN NARRATIVE)               28\n",
       "FT - FIRE TRUCK                                  24\n",
       "PC - POLICE CAR/TRUCK                            23\n",
       "AM - AMBULANCE                                   13\n",
       "EV - NEV-NEIGHBORHOOD ELECTRIC VEHICLE            9\n",
       "TL - TRAILER, SEMI-TRAILER, OR POLE TRAILER       3\n",
       "Name: Vehicle Body Style, dtype: int64"
      ]
     },
     "execution_count": 634,
     "metadata": {},
     "output_type": "execute_result"
    }
   ],
   "source": [
    "reg_train['Vehicle Body Style'].value_counts()"
   ]
  },
  {
   "cell_type": "code",
   "execution_count": 635,
   "id": "6747b71a",
   "metadata": {},
   "outputs": [],
   "source": [
    "reg_train['Vehicle Body Style'].fillna(reg_train['Vehicle Body Style'].mode()[0], inplace=True)\n",
    "\n",
    "reg_train['Vehicle Body Style'] = reg_train['Vehicle Body Style'].replace('99 - UNKNOWN', reg_train['Vehicle Body Style'].mode()[0])\n",
    "reg_train['Vehicle Body Style'] = reg_train['Vehicle Body Style'].replace('98 - OTHER  (EXPLAIN IN NARRATIVE)', reg_train['Vehicle Body Style'].mode()[0])\n",
    "reg_train['Vehicle Body Style'] = reg_train['Vehicle Body Style'].replace('No Data', reg_train['Vehicle Body Style'].mode()[0])"
   ]
  },
  {
   "cell_type": "code",
   "execution_count": 636,
   "id": "11bc0573",
   "metadata": {},
   "outputs": [
    {
     "data": {
      "text/plain": [
       "15"
      ]
     },
     "execution_count": 636,
     "metadata": {},
     "output_type": "execute_result"
    }
   ],
   "source": [
    "len(reg_train['Vehicle Body Style'].value_counts())"
   ]
  },
  {
   "cell_type": "code",
   "execution_count": 637,
   "id": "871069a9",
   "metadata": {},
   "outputs": [
    {
     "data": {
      "text/plain": [
       "{0: 'AM - AMBULANCE',\n",
       " 1: 'BU - BUS',\n",
       " 2: 'EV - NEV-NEIGHBORHOOD ELECTRIC VEHICLE',\n",
       " 3: 'FT - FIRE TRUCK',\n",
       " 4: 'MC - MOTORCYCLE',\n",
       " 5: 'P2 - PASSENGER CAR, 2-DOOR',\n",
       " 6: 'P4 - PASSENGER CAR, 4-DOOR',\n",
       " 7: 'PC - POLICE CAR/TRUCK',\n",
       " 8: 'PK - PICKUP',\n",
       " 9: 'SB - YELLOW SCHOOL BUS',\n",
       " 10: 'SV - SPORT UTILITY VEHICLE',\n",
       " 11: 'TL - TRAILER, SEMI-TRAILER, OR POLE TRAILER',\n",
       " 12: 'TR - TRUCK',\n",
       " 13: 'TT - TRUCK TRACTOR',\n",
       " 14: 'VN - VAN'}"
      ]
     },
     "execution_count": 637,
     "metadata": {},
     "output_type": "execute_result"
    }
   ],
   "source": [
    "codes_VBS = reg_train['Vehicle Body Style'].astype('category').cat.codes\n",
    "mapping_VBS = dict(enumerate(reg_train['Vehicle Body Style'].astype('category').cat.categories))\n",
    "reg_train['Vehicle Body Style Labels'] = reg_train['Vehicle Body Style'].astype('category').cat.codes\n",
    "mapping_VBS"
   ]
  },
  {
   "cell_type": "code",
   "execution_count": 638,
   "id": "5481079e",
   "metadata": {},
   "outputs": [],
   "source": [
    "reg_train.drop('Vehicle Body Style', axis=1, inplace=True)"
   ]
  },
  {
   "cell_type": "markdown",
   "id": "531c69db",
   "metadata": {},
   "source": [
    "Preprocessing `reg_train['Person Age']` column..."
   ]
  },
  {
   "cell_type": "code",
   "execution_count": 639,
   "id": "077d82b8",
   "metadata": {},
   "outputs": [
    {
     "data": {
      "text/plain": [
       "1278"
      ]
     },
     "execution_count": 639,
     "metadata": {},
     "output_type": "execute_result"
    }
   ],
   "source": [
    "reg_train['Person Age'].isnull().sum()"
   ]
  },
  {
   "cell_type": "code",
   "execution_count": 640,
   "id": "3087e8eb",
   "metadata": {},
   "outputs": [],
   "source": [
    "reg_train['Person Age'] = reg_train['Person Age'].replace('No Data', np.nan)\n",
    "\n",
    "reg_train['Person Age'].fillna(reg_train['Person Age'].median(), inplace=True)\n",
    "\n",
    "reg_train['Person Age'] = pd.to_numeric(reg_train['Person Age'], errors='coerce').astype('Int64')"
   ]
  },
  {
   "cell_type": "markdown",
   "id": "eae69c32",
   "metadata": {},
   "source": [
    "Droppping columns that has no data(large percentage)...."
   ]
  },
  {
   "cell_type": "code",
   "execution_count": 641,
   "id": "fb7aacc5",
   "metadata": {},
   "outputs": [],
   "source": [
    "reg_train.drop('Person Alcohol Result', axis=1, inplace=True)\n",
    "reg_train.drop('Person Drug Test Result', axis=1, inplace=True)"
   ]
  },
  {
   "cell_type": "markdown",
   "id": "9290439a",
   "metadata": {},
   "source": [
    "Preprocessing `reg_train['Person Ethnicity']` column..."
   ]
  },
  {
   "cell_type": "code",
   "execution_count": 642,
   "id": "d19b6849",
   "metadata": {},
   "outputs": [
    {
     "data": {
      "text/plain": [
       "1265"
      ]
     },
     "execution_count": 642,
     "metadata": {},
     "output_type": "execute_result"
    }
   ],
   "source": [
    "reg_train['Person Ethnicity'].isnull().sum()"
   ]
  },
  {
   "cell_type": "code",
   "execution_count": 643,
   "id": "d85f9dab",
   "metadata": {},
   "outputs": [
    {
     "data": {
      "text/plain": [
       "W - WHITE                          5533\n",
       "H - HISPANIC                       2552\n",
       "B - BLACK                          1821\n",
       "A - ASIAN                           957\n",
       "99 - UNKNOWN                        695\n",
       "I - AMER. INDIAN/ALASKAN NATIVE     100\n",
       "98 - OTHER                           64\n",
       "No Data                              54\n",
       "Name: Person Ethnicity, dtype: int64"
      ]
     },
     "execution_count": 643,
     "metadata": {},
     "output_type": "execute_result"
    }
   ],
   "source": [
    "reg_train['Person Ethnicity'].value_counts()"
   ]
  },
  {
   "cell_type": "code",
   "execution_count": 644,
   "id": "2ff63ead",
   "metadata": {},
   "outputs": [],
   "source": [
    "reg_train['Person Ethnicity'].fillna(reg_train['Person Ethnicity'].mode()[0], inplace=True)\n",
    "\n",
    "reg_train['Person Ethnicity'] = reg_train['Person Ethnicity'].replace(['99 - UNKNOWN', 'No Data'], 'OTHER')"
   ]
  },
  {
   "cell_type": "code",
   "execution_count": 645,
   "id": "877c4546",
   "metadata": {},
   "outputs": [
    {
     "data": {
      "image/png": "[encoded data removed]",
      "text/plain": [
       "<Figure size 1152x432 with 1 Axes>"
      ]
     },
     "metadata": {
      "needs_background": "light"
     },
     "output_type": "display_data"
    }
   ],
   "source": [
    "plt.figure(figsize=(16, 6)) \n",
    "sns.countplot(x='Person Ethnicity', data=reg_train)\n",
    "plt.title('Distribution of Person Ethnicity')\n",
    "plt.xlabel('Person Ethnicity')\n",
    "plt.ylabel('Count')\n",
    "plt.show()"
   ]
  },
  {
   "cell_type": "code",
   "execution_count": 646,
   "id": "6f468795",
   "metadata": {},
   "outputs": [],
   "source": [
    "reg_train = pd.get_dummies(reg_train, columns=['Person Ethnicity'], drop_first=True)"
   ]
  },
  {
   "cell_type": "markdown",
   "id": "92285b89",
   "metadata": {},
   "source": [
    "Preprocessing `reg_train['Person Gender']` column..."
   ]
  },
  {
   "cell_type": "code",
   "execution_count": 647,
   "id": "943b6a7e",
   "metadata": {},
   "outputs": [],
   "source": [
    "reg_train['Person Gender'].fillna(reg_train['Person Gender'].mode()[0], inplace=True)\n",
    "\n",
    "reg_train['Person Gender'] = reg_train['Person Gender'].replace('99 - UNKNOWN', reg_train['Person Gender'].mode()[0])"
   ]
  },
  {
   "cell_type": "code",
   "execution_count": 648,
   "id": "6bfd59e3",
   "metadata": {},
   "outputs": [
    {
     "data": {
      "image/png": "[encoded data removed]",
      "text/plain": [
       "<Figure size 288x432 with 1 Axes>"
      ]
     },
     "metadata": {
      "needs_background": "light"
     },
     "output_type": "display_data"
    }
   ],
   "source": [
    "plt.figure(figsize=(4, 6)) \n",
    "sns.countplot(x='Person Gender', data=reg_train)\n",
    "plt.title('Distribution of Person Gender')\n",
    "plt.xlabel('Person Gender')\n",
    "plt.ylabel('Count')\n",
    "plt.show()"
   ]
  },
  {
   "cell_type": "code",
   "execution_count": 649,
   "id": "c611e228",
   "metadata": {},
   "outputs": [],
   "source": [
    "reg_train = pd.get_dummies(reg_train, columns=['Person Gender'], drop_first=True)"
   ]
  },
  {
   "cell_type": "code",
   "execution_count": 650,
   "id": "9827ce9d",
   "metadata": {},
   "outputs": [
    {
     "data": {
      "text/plain": [
       "Index(['Crash ID', 'Speed Limit', 'Person Age', 'y',\n",
       "       'Crash Severity_A - SUSPECTED SERIOUS INJURY',\n",
       "       'Crash Severity_B - SUSPECTED MINOR INJURY',\n",
       "       'Crash Severity_C - POSSIBLE INJURY', 'Crash Severity_K - FATAL INJURY',\n",
       "       'Crash Severity_N - NOT INJURED', 'Hour', 'Minute', 'Second',\n",
       "       'Day of Week_MONDAY', 'Day of Week_SATURDAY', 'Day of Week_SUNDAY',\n",
       "       'Day of Week_THURSDAY', 'Day of Week_TUESDAY', 'Day of Week_WEDNESDAY',\n",
       "       'Manner of Collision Labels', 'Surface Condition_2 - WET',\n",
       "       'Surface Condition_3 - STANDING WATER',\n",
       "       'Surface Condition_7 - SAND, MUD, DIRT',\n",
       "       'Surface Condition_98 - OTHER (EXPLAIN IN NARRATIVE)',\n",
       "       'Weather Condition_2 - CLOUDY', 'Weather Condition_3 - RAIN',\n",
       "       'Weather Condition_6 - FOG', 'Vehicle Body Style Labels',\n",
       "       'Person Ethnicity_A - ASIAN', 'Person Ethnicity_B - BLACK',\n",
       "       'Person Ethnicity_H - HISPANIC',\n",
       "       'Person Ethnicity_I - AMER. INDIAN/ALASKAN NATIVE',\n",
       "       'Person Ethnicity_OTHER', 'Person Ethnicity_W - WHITE',\n",
       "       'Person Gender_2 - FEMALE'],\n",
       "      dtype='object')"
      ]
     },
     "execution_count": 650,
     "metadata": {},
     "output_type": "execute_result"
    }
   ],
   "source": [
    "reg_train.columns"
   ]
  },
  {
   "cell_type": "code",
   "execution_count": 651,
   "id": "cc6e32ab",
   "metadata": {},
   "outputs": [
    {
     "data": {
      "text/plain": [
       "Crash ID                                               int64\n",
       "Speed Limit                                            int64\n",
       "Person Age                                             Int64\n",
       "y                                                      int64\n",
       "Crash Severity_A - SUSPECTED SERIOUS INJURY            uint8\n",
       "Crash Severity_B - SUSPECTED MINOR INJURY              uint8\n",
       "Crash Severity_C - POSSIBLE INJURY                     uint8\n",
       "Crash Severity_K - FATAL INJURY                        uint8\n",
       "Crash Severity_N - NOT INJURED                         uint8\n",
       "Hour                                                   int64\n",
       "Minute                                                 int64\n",
       "Second                                                 int64\n",
       "Day of Week_MONDAY                                     uint8\n",
       "Day of Week_SATURDAY                                   uint8\n",
       "Day of Week_SUNDAY                                     uint8\n",
       "Day of Week_THURSDAY                                   uint8\n",
       "Day of Week_TUESDAY                                    uint8\n",
       "Day of Week_WEDNESDAY                                  uint8\n",
       "Manner of Collision Labels                              int8\n",
       "Surface Condition_2 - WET                              uint8\n",
       "Surface Condition_3 - STANDING WATER                   uint8\n",
       "Surface Condition_7 - SAND, MUD, DIRT                  uint8\n",
       "Surface Condition_98 - OTHER (EXPLAIN IN NARRATIVE)    uint8\n",
       "Weather Condition_2 - CLOUDY                           uint8\n",
       "Weather Condition_3 - RAIN                             uint8\n",
       "Weather Condition_6 - FOG                              uint8\n",
       "Vehicle Body Style Labels                               int8\n",
       "Person Ethnicity_A - ASIAN                             uint8\n",
       "Person Ethnicity_B - BLACK                             uint8\n",
       "Person Ethnicity_H - HISPANIC                          uint8\n",
       "Person Ethnicity_I - AMER. INDIAN/ALASKAN NATIVE       uint8\n",
       "Person Ethnicity_OTHER                                 uint8\n",
       "Person Ethnicity_W - WHITE                             uint8\n",
       "Person Gender_2 - FEMALE                               uint8\n",
       "dtype: object"
      ]
     },
     "execution_count": 651,
     "metadata": {},
     "output_type": "execute_result"
    }
   ],
   "source": [
    "reg_train.dtypes"
   ]
  },
  {
   "cell_type": "code",
   "execution_count": 652,
   "id": "c0a8deab",
   "metadata": {},
   "outputs": [
    {
     "data": {
      "text/plain": [
       "0         96\n",
       "1         29\n",
       "2         51\n",
       "3         75\n",
       "4        130\n",
       "        ... \n",
       "13036     87\n",
       "13037     37\n",
       "13038     36\n",
       "13039     39\n",
       "13040     37\n",
       "Name: y, Length: 13041, dtype: int64"
      ]
     },
     "execution_count": 652,
     "metadata": {},
     "output_type": "execute_result"
    }
   ],
   "source": [
    "reg_train.y"
   ]
  },
  {
   "cell_type": "code",
   "execution_count": 653,
   "id": "3fb0fd33",
   "metadata": {},
   "outputs": [
    {
     "name": "stdout",
     "output_type": "stream",
     "text": [
      "<class 'pandas.core.frame.DataFrame'>\n",
      "RangeIndex: 13041 entries, 0 to 13040\n",
      "Data columns (total 34 columns):\n",
      " #   Column                                               Non-Null Count  Dtype\n",
      "---  ------                                               --------------  -----\n",
      " 0   Crash ID                                             13041 non-null  int64\n",
      " 1   Speed Limit                                          13041 non-null  int64\n",
      " 2   Person Age                                           13041 non-null  Int64\n",
      " 3   y                                                    13041 non-null  int64\n",
      " 4   Crash Severity_A - SUSPECTED SERIOUS INJURY          13041 non-null  uint8\n",
      " 5   Crash Severity_B - SUSPECTED MINOR INJURY            13041 non-null  uint8\n",
      " 6   Crash Severity_C - POSSIBLE INJURY                   13041 non-null  uint8\n",
      " 7   Crash Severity_K - FATAL INJURY                      13041 non-null  uint8\n",
      " 8   Crash Severity_N - NOT INJURED                       13041 non-null  uint8\n",
      " 9   Hour                                                 13041 non-null  int64\n",
      " 10  Minute                                               13041 non-null  int64\n",
      " 11  Second                                               13041 non-null  int64\n",
      " 12  Day of Week_MONDAY                                   13041 non-null  uint8\n",
      " 13  Day of Week_SATURDAY                                 13041 non-null  uint8\n",
      " 14  Day of Week_SUNDAY                                   13041 non-null  uint8\n",
      " 15  Day of Week_THURSDAY                                 13041 non-null  uint8\n",
      " 16  Day of Week_TUESDAY                                  13041 non-null  uint8\n",
      " 17  Day of Week_WEDNESDAY                                13041 non-null  uint8\n",
      " 18  Manner of Collision Labels                           13041 non-null  int8 \n",
      " 19  Surface Condition_2 - WET                            13041 non-null  uint8\n",
      " 20  Surface Condition_3 - STANDING WATER                 13041 non-null  uint8\n",
      " 21  Surface Condition_7 - SAND, MUD, DIRT                13041 non-null  uint8\n",
      " 22  Surface Condition_98 - OTHER (EXPLAIN IN NARRATIVE)  13041 non-null  uint8\n",
      " 23  Weather Condition_2 - CLOUDY                         13041 non-null  uint8\n",
      " 24  Weather Condition_3 - RAIN                           13041 non-null  uint8\n",
      " 25  Weather Condition_6 - FOG                            13041 non-null  uint8\n",
      " 26  Vehicle Body Style Labels                            13041 non-null  int8 \n",
      " 27  Person Ethnicity_A - ASIAN                           13041 non-null  uint8\n",
      " 28  Person Ethnicity_B - BLACK                           13041 non-null  uint8\n",
      " 29  Person Ethnicity_H - HISPANIC                        13041 non-null  uint8\n",
      " 30  Person Ethnicity_I - AMER. INDIAN/ALASKAN NATIVE     13041 non-null  uint8\n",
      " 31  Person Ethnicity_OTHER                               13041 non-null  uint8\n",
      " 32  Person Ethnicity_W - WHITE                           13041 non-null  uint8\n",
      " 33  Person Gender_2 - FEMALE                             13041 non-null  uint8\n",
      "dtypes: Int64(1), int64(6), int8(2), uint8(25)\n",
      "memory usage: 1.0 MB\n"
     ]
    }
   ],
   "source": [
    "reg_train.info()"
   ]
  },
  {
   "cell_type": "code",
   "execution_count": 654,
   "id": "64ddd422",
   "metadata": {},
   "outputs": [
    {
     "data": {
      "text/html": [
       "<div>\n",
       "<style scoped>\n",
       "    .dataframe tbody tr th:only-of-type {\n",
       "        vertical-align: middle;\n",
       "    }\n",
       "\n",
       "    .dataframe tbody tr th {\n",
       "        vertical-align: top;\n",
       "    }\n",
       "\n",
       "    .dataframe thead th {\n",
       "        text-align: right;\n",
       "    }\n",
       "</style>\n",
       "<table border=\"1\" class=\"dataframe\">\n",
       "  <thead>\n",
       "    <tr style=\"text-align: right;\">\n",
       "      <th></th>\n",
       "      <th>Crash ID</th>\n",
       "      <th>Speed Limit</th>\n",
       "      <th>Person Age</th>\n",
       "      <th>y</th>\n",
       "      <th>Crash Severity_A - SUSPECTED SERIOUS INJURY</th>\n",
       "      <th>Crash Severity_B - SUSPECTED MINOR INJURY</th>\n",
       "      <th>Crash Severity_C - POSSIBLE INJURY</th>\n",
       "      <th>Crash Severity_K - FATAL INJURY</th>\n",
       "      <th>Crash Severity_N - NOT INJURED</th>\n",
       "      <th>Hour</th>\n",
       "      <th>...</th>\n",
       "      <th>Weather Condition_3 - RAIN</th>\n",
       "      <th>Weather Condition_6 - FOG</th>\n",
       "      <th>Vehicle Body Style Labels</th>\n",
       "      <th>Person Ethnicity_A - ASIAN</th>\n",
       "      <th>Person Ethnicity_B - BLACK</th>\n",
       "      <th>Person Ethnicity_H - HISPANIC</th>\n",
       "      <th>Person Ethnicity_I - AMER. INDIAN/ALASKAN NATIVE</th>\n",
       "      <th>Person Ethnicity_OTHER</th>\n",
       "      <th>Person Ethnicity_W - WHITE</th>\n",
       "      <th>Person Gender_2 - FEMALE</th>\n",
       "    </tr>\n",
       "  </thead>\n",
       "  <tbody>\n",
       "    <tr>\n",
       "      <th>count</th>\n",
       "      <td>1.304100e+04</td>\n",
       "      <td>13041.000000</td>\n",
       "      <td>13041.000000</td>\n",
       "      <td>13041.000000</td>\n",
       "      <td>13041.000000</td>\n",
       "      <td>13041.000000</td>\n",
       "      <td>13041.000000</td>\n",
       "      <td>13041.000000</td>\n",
       "      <td>13041.000000</td>\n",
       "      <td>13041.000000</td>\n",
       "      <td>...</td>\n",
       "      <td>13041.000000</td>\n",
       "      <td>13041.000000</td>\n",
       "      <td>13041.000000</td>\n",
       "      <td>13041.000000</td>\n",
       "      <td>13041.000000</td>\n",
       "      <td>13041.000000</td>\n",
       "      <td>13041.000000</td>\n",
       "      <td>13041.000000</td>\n",
       "      <td>13041.000000</td>\n",
       "      <td>13041.000000</td>\n",
       "    </tr>\n",
       "    <tr>\n",
       "      <th>mean</th>\n",
       "      <td>1.962155e+07</td>\n",
       "      <td>46.055517</td>\n",
       "      <td>33.681159</td>\n",
       "      <td>63.669274</td>\n",
       "      <td>0.023771</td>\n",
       "      <td>0.145464</td>\n",
       "      <td>0.142704</td>\n",
       "      <td>0.003067</td>\n",
       "      <td>0.666207</td>\n",
       "      <td>14.124530</td>\n",
       "      <td>...</td>\n",
       "      <td>0.039261</td>\n",
       "      <td>0.000690</td>\n",
       "      <td>7.754927</td>\n",
       "      <td>0.073384</td>\n",
       "      <td>0.139637</td>\n",
       "      <td>0.195691</td>\n",
       "      <td>0.007668</td>\n",
       "      <td>0.057434</td>\n",
       "      <td>0.521279</td>\n",
       "      <td>0.384403</td>\n",
       "    </tr>\n",
       "    <tr>\n",
       "      <th>std</th>\n",
       "      <td>8.610370e+04</td>\n",
       "      <td>16.011441</td>\n",
       "      <td>16.795756</td>\n",
       "      <td>92.934701</td>\n",
       "      <td>0.152341</td>\n",
       "      <td>0.352582</td>\n",
       "      <td>0.349784</td>\n",
       "      <td>0.055300</td>\n",
       "      <td>0.471585</td>\n",
       "      <td>4.816477</td>\n",
       "      <td>...</td>\n",
       "      <td>0.194222</td>\n",
       "      <td>0.026262</td>\n",
       "      <td>2.410845</td>\n",
       "      <td>0.260776</td>\n",
       "      <td>0.346623</td>\n",
       "      <td>0.396747</td>\n",
       "      <td>0.087235</td>\n",
       "      <td>0.232679</td>\n",
       "      <td>0.499566</td>\n",
       "      <td>0.486472</td>\n",
       "    </tr>\n",
       "    <tr>\n",
       "      <th>min</th>\n",
       "      <td>1.928024e+07</td>\n",
       "      <td>-1.000000</td>\n",
       "      <td>0.000000</td>\n",
       "      <td>0.000000</td>\n",
       "      <td>0.000000</td>\n",
       "      <td>0.000000</td>\n",
       "      <td>0.000000</td>\n",
       "      <td>0.000000</td>\n",
       "      <td>0.000000</td>\n",
       "      <td>0.000000</td>\n",
       "      <td>...</td>\n",
       "      <td>0.000000</td>\n",
       "      <td>0.000000</td>\n",
       "      <td>0.000000</td>\n",
       "      <td>0.000000</td>\n",
       "      <td>0.000000</td>\n",
       "      <td>0.000000</td>\n",
       "      <td>0.000000</td>\n",
       "      <td>0.000000</td>\n",
       "      <td>0.000000</td>\n",
       "      <td>0.000000</td>\n",
       "    </tr>\n",
       "    <tr>\n",
       "      <th>25%</th>\n",
       "      <td>1.954643e+07</td>\n",
       "      <td>35.000000</td>\n",
       "      <td>22.000000</td>\n",
       "      <td>35.000000</td>\n",
       "      <td>0.000000</td>\n",
       "      <td>0.000000</td>\n",
       "      <td>0.000000</td>\n",
       "      <td>0.000000</td>\n",
       "      <td>0.000000</td>\n",
       "      <td>11.000000</td>\n",
       "      <td>...</td>\n",
       "      <td>0.000000</td>\n",
       "      <td>0.000000</td>\n",
       "      <td>6.000000</td>\n",
       "      <td>0.000000</td>\n",
       "      <td>0.000000</td>\n",
       "      <td>0.000000</td>\n",
       "      <td>0.000000</td>\n",
       "      <td>0.000000</td>\n",
       "      <td>0.000000</td>\n",
       "      <td>0.000000</td>\n",
       "    </tr>\n",
       "    <tr>\n",
       "      <th>50%</th>\n",
       "      <td>1.962358e+07</td>\n",
       "      <td>45.000000</td>\n",
       "      <td>31.000000</td>\n",
       "      <td>48.000000</td>\n",
       "      <td>0.000000</td>\n",
       "      <td>0.000000</td>\n",
       "      <td>0.000000</td>\n",
       "      <td>0.000000</td>\n",
       "      <td>1.000000</td>\n",
       "      <td>15.000000</td>\n",
       "      <td>...</td>\n",
       "      <td>0.000000</td>\n",
       "      <td>0.000000</td>\n",
       "      <td>6.000000</td>\n",
       "      <td>0.000000</td>\n",
       "      <td>0.000000</td>\n",
       "      <td>0.000000</td>\n",
       "      <td>0.000000</td>\n",
       "      <td>0.000000</td>\n",
       "      <td>1.000000</td>\n",
       "      <td>0.000000</td>\n",
       "    </tr>\n",
       "    <tr>\n",
       "      <th>75%</th>\n",
       "      <td>1.969618e+07</td>\n",
       "      <td>55.000000</td>\n",
       "      <td>43.000000</td>\n",
       "      <td>65.000000</td>\n",
       "      <td>0.000000</td>\n",
       "      <td>0.000000</td>\n",
       "      <td>0.000000</td>\n",
       "      <td>0.000000</td>\n",
       "      <td>1.000000</td>\n",
       "      <td>17.000000</td>\n",
       "      <td>...</td>\n",
       "      <td>0.000000</td>\n",
       "      <td>0.000000</td>\n",
       "      <td>10.000000</td>\n",
       "      <td>0.000000</td>\n",
       "      <td>0.000000</td>\n",
       "      <td>0.000000</td>\n",
       "      <td>0.000000</td>\n",
       "      <td>0.000000</td>\n",
       "      <td>1.000000</td>\n",
       "      <td>1.000000</td>\n",
       "    </tr>\n",
       "    <tr>\n",
       "      <th>max</th>\n",
       "      <td>1.976829e+07</td>\n",
       "      <td>75.000000</td>\n",
       "      <td>99.000000</td>\n",
       "      <td>1427.000000</td>\n",
       "      <td>1.000000</td>\n",
       "      <td>1.000000</td>\n",
       "      <td>1.000000</td>\n",
       "      <td>1.000000</td>\n",
       "      <td>1.000000</td>\n",
       "      <td>23.000000</td>\n",
       "      <td>...</td>\n",
       "      <td>1.000000</td>\n",
       "      <td>1.000000</td>\n",
       "      <td>14.000000</td>\n",
       "      <td>1.000000</td>\n",
       "      <td>1.000000</td>\n",
       "      <td>1.000000</td>\n",
       "      <td>1.000000</td>\n",
       "      <td>1.000000</td>\n",
       "      <td>1.000000</td>\n",
       "      <td>1.000000</td>\n",
       "    </tr>\n",
       "  </tbody>\n",
       "</table>\n",
       "<p>8 rows × 34 columns</p>\n",
       "</div>"
      ],
      "text/plain": [
       "           Crash ID   Speed Limit    Person Age             y  \\\n",
       "count  1.304100e+04  13041.000000  13041.000000  13041.000000   \n",
       "mean   1.962155e+07     46.055517     33.681159     63.669274   \n",
       "std    8.610370e+04     16.011441     16.795756     92.934701   \n",
       "min    1.928024e+07     -1.000000      0.000000      0.000000   \n",
       "25%    1.954643e+07     35.000000     22.000000     35.000000   \n",
       "50%    1.962358e+07     45.000000     31.000000     48.000000   \n",
       "75%    1.969618e+07     55.000000     43.000000     65.000000   \n",
       "max    1.976829e+07     75.000000     99.000000   1427.000000   \n",
       "\n",
       "       Crash Severity_A - SUSPECTED SERIOUS INJURY  \\\n",
       "count                                 13041.000000   \n",
       "mean                                      0.023771   \n",
       "std                                       0.152341   \n",
       "min                                       0.000000   \n",
       "25%                                       0.000000   \n",
       "50%                                       0.000000   \n",
       "75%                                       0.000000   \n",
       "max                                       1.000000   \n",
       "\n",
       "       Crash Severity_B - SUSPECTED MINOR INJURY  \\\n",
       "count                               13041.000000   \n",
       "mean                                    0.145464   \n",
       "std                                     0.352582   \n",
       "min                                     0.000000   \n",
       "25%                                     0.000000   \n",
       "50%                                     0.000000   \n",
       "75%                                     0.000000   \n",
       "max                                     1.000000   \n",
       "\n",
       "       Crash Severity_C - POSSIBLE INJURY  Crash Severity_K - FATAL INJURY  \\\n",
       "count                        13041.000000                     13041.000000   \n",
       "mean                             0.142704                         0.003067   \n",
       "std                              0.349784                         0.055300   \n",
       "min                              0.000000                         0.000000   \n",
       "25%                              0.000000                         0.000000   \n",
       "50%                              0.000000                         0.000000   \n",
       "75%                              0.000000                         0.000000   \n",
       "max                              1.000000                         1.000000   \n",
       "\n",
       "       Crash Severity_N - NOT INJURED          Hour  ...  \\\n",
       "count                    13041.000000  13041.000000  ...   \n",
       "mean                         0.666207     14.124530  ...   \n",
       "std                          0.471585      4.816477  ...   \n",
       "min                          0.000000      0.000000  ...   \n",
       "25%                          0.000000     11.000000  ...   \n",
       "50%                          1.000000     15.000000  ...   \n",
       "75%                          1.000000     17.000000  ...   \n",
       "max                          1.000000     23.000000  ...   \n",
       "\n",
       "       Weather Condition_3 - RAIN  Weather Condition_6 - FOG  \\\n",
       "count                13041.000000               13041.000000   \n",
       "mean                     0.039261                   0.000690   \n",
       "std                      0.194222                   0.026262   \n",
       "min                      0.000000                   0.000000   \n",
       "25%                      0.000000                   0.000000   \n",
       "50%                      0.000000                   0.000000   \n",
       "75%                      0.000000                   0.000000   \n",
       "max                      1.000000                   1.000000   \n",
       "\n",
       "       Vehicle Body Style Labels  Person Ethnicity_A - ASIAN  \\\n",
       "count               13041.000000                13041.000000   \n",
       "mean                    7.754927                    0.073384   \n",
       "std                     2.410845                    0.260776   \n",
       "min                     0.000000                    0.000000   \n",
       "25%                     6.000000                    0.000000   \n",
       "50%                     6.000000                    0.000000   \n",
       "75%                    10.000000                    0.000000   \n",
       "max                    14.000000                    1.000000   \n",
       "\n",
       "       Person Ethnicity_B - BLACK  Person Ethnicity_H - HISPANIC  \\\n",
       "count                13041.000000                   13041.000000   \n",
       "mean                     0.139637                       0.195691   \n",
       "std                      0.346623                       0.396747   \n",
       "min                      0.000000                       0.000000   \n",
       "25%                      0.000000                       0.000000   \n",
       "50%                      0.000000                       0.000000   \n",
       "75%                      0.000000                       0.000000   \n",
       "max                      1.000000                       1.000000   \n",
       "\n",
       "       Person Ethnicity_I - AMER. INDIAN/ALASKAN NATIVE  \\\n",
       "count                                      13041.000000   \n",
       "mean                                           0.007668   \n",
       "std                                            0.087235   \n",
       "min                                            0.000000   \n",
       "25%                                            0.000000   \n",
       "50%                                            0.000000   \n",
       "75%                                            0.000000   \n",
       "max                                            1.000000   \n",
       "\n",
       "       Person Ethnicity_OTHER  Person Ethnicity_W - WHITE  \\\n",
       "count            13041.000000                13041.000000   \n",
       "mean                 0.057434                    0.521279   \n",
       "std                  0.232679                    0.499566   \n",
       "min                  0.000000                    0.000000   \n",
       "25%                  0.000000                    0.000000   \n",
       "50%                  0.000000                    1.000000   \n",
       "75%                  0.000000                    1.000000   \n",
       "max                  1.000000                    1.000000   \n",
       "\n",
       "       Person Gender_2 - FEMALE  \n",
       "count              13041.000000  \n",
       "mean                   0.384403  \n",
       "std                    0.486472  \n",
       "min                    0.000000  \n",
       "25%                    0.000000  \n",
       "50%                    0.000000  \n",
       "75%                    1.000000  \n",
       "max                    1.000000  \n",
       "\n",
       "[8 rows x 34 columns]"
      ]
     },
     "execution_count": 654,
     "metadata": {},
     "output_type": "execute_result"
    }
   ],
   "source": [
    "reg_train.describe()"
   ]
  },
  {
   "cell_type": "code",
   "execution_count": 655,
   "id": "22f01926",
   "metadata": {},
   "outputs": [
    {
     "data": {
      "text/plain": [
       "Crash ID                                               0\n",
       "Speed Limit                                            0\n",
       "Person Age                                             0\n",
       "y                                                      0\n",
       "Crash Severity_A - SUSPECTED SERIOUS INJURY            0\n",
       "Crash Severity_B - SUSPECTED MINOR INJURY              0\n",
       "Crash Severity_C - POSSIBLE INJURY                     0\n",
       "Crash Severity_K - FATAL INJURY                        0\n",
       "Crash Severity_N - NOT INJURED                         0\n",
       "Hour                                                   0\n",
       "Minute                                                 0\n",
       "Second                                                 0\n",
       "Day of Week_MONDAY                                     0\n",
       "Day of Week_SATURDAY                                   0\n",
       "Day of Week_SUNDAY                                     0\n",
       "Day of Week_THURSDAY                                   0\n",
       "Day of Week_TUESDAY                                    0\n",
       "Day of Week_WEDNESDAY                                  0\n",
       "Manner of Collision Labels                             0\n",
       "Surface Condition_2 - WET                              0\n",
       "Surface Condition_3 - STANDING WATER                   0\n",
       "Surface Condition_7 - SAND, MUD, DIRT                  0\n",
       "Surface Condition_98 - OTHER (EXPLAIN IN NARRATIVE)    0\n",
       "Weather Condition_2 - CLOUDY                           0\n",
       "Weather Condition_3 - RAIN                             0\n",
       "Weather Condition_6 - FOG                              0\n",
       "Vehicle Body Style Labels                              0\n",
       "Person Ethnicity_A - ASIAN                             0\n",
       "Person Ethnicity_B - BLACK                             0\n",
       "Person Ethnicity_H - HISPANIC                          0\n",
       "Person Ethnicity_I - AMER. INDIAN/ALASKAN NATIVE       0\n",
       "Person Ethnicity_OTHER                                 0\n",
       "Person Ethnicity_W - WHITE                             0\n",
       "Person Gender_2 - FEMALE                               0\n",
       "dtype: int64"
      ]
     },
     "execution_count": 655,
     "metadata": {},
     "output_type": "execute_result"
    }
   ],
   "source": [
    "reg_train.isnull().sum()"
   ]
  },
  {
   "cell_type": "code",
   "execution_count": null,
   "id": "2beebb7c",
   "metadata": {},
   "outputs": [],
   "source": []
  },
  {
   "cell_type": "code",
   "execution_count": null,
   "id": "f26ed207",
   "metadata": {},
   "outputs": [],
   "source": []
  },
  {
   "cell_type": "code",
   "execution_count": 656,
   "id": "4af5b08a",
   "metadata": {},
   "outputs": [
    {
     "data": {
      "text/html": [
       "<div>\n",
       "<style scoped>\n",
       "    .dataframe tbody tr th:only-of-type {\n",
       "        vertical-align: middle;\n",
       "    }\n",
       "\n",
       "    .dataframe tbody tr th {\n",
       "        vertical-align: top;\n",
       "    }\n",
       "\n",
       "    .dataframe thead th {\n",
       "        text-align: right;\n",
       "    }\n",
       "</style>\n",
       "<table border=\"1\" class=\"dataframe\">\n",
       "  <thead>\n",
       "    <tr style=\"text-align: right;\">\n",
       "      <th></th>\n",
       "      <th>Crash ID</th>\n",
       "      <th>Speed Limit</th>\n",
       "      <th>Person Age</th>\n",
       "      <th>y</th>\n",
       "      <th>Crash Severity_A - SUSPECTED SERIOUS INJURY</th>\n",
       "      <th>Crash Severity_B - SUSPECTED MINOR INJURY</th>\n",
       "      <th>Crash Severity_C - POSSIBLE INJURY</th>\n",
       "      <th>Crash Severity_K - FATAL INJURY</th>\n",
       "      <th>Crash Severity_N - NOT INJURED</th>\n",
       "      <th>Hour</th>\n",
       "      <th>...</th>\n",
       "      <th>Weather Condition_3 - RAIN</th>\n",
       "      <th>Weather Condition_6 - FOG</th>\n",
       "      <th>Vehicle Body Style Labels</th>\n",
       "      <th>Person Ethnicity_A - ASIAN</th>\n",
       "      <th>Person Ethnicity_B - BLACK</th>\n",
       "      <th>Person Ethnicity_H - HISPANIC</th>\n",
       "      <th>Person Ethnicity_I - AMER. INDIAN/ALASKAN NATIVE</th>\n",
       "      <th>Person Ethnicity_OTHER</th>\n",
       "      <th>Person Ethnicity_W - WHITE</th>\n",
       "      <th>Person Gender_2 - FEMALE</th>\n",
       "    </tr>\n",
       "  </thead>\n",
       "  <tbody>\n",
       "    <tr>\n",
       "      <th>0</th>\n",
       "      <td>19757646</td>\n",
       "      <td>40</td>\n",
       "      <td>7</td>\n",
       "      <td>96</td>\n",
       "      <td>0</td>\n",
       "      <td>0</td>\n",
       "      <td>0</td>\n",
       "      <td>0</td>\n",
       "      <td>1</td>\n",
       "      <td>16</td>\n",
       "      <td>...</td>\n",
       "      <td>0</td>\n",
       "      <td>0</td>\n",
       "      <td>1</td>\n",
       "      <td>0</td>\n",
       "      <td>0</td>\n",
       "      <td>0</td>\n",
       "      <td>0</td>\n",
       "      <td>0</td>\n",
       "      <td>1</td>\n",
       "      <td>0</td>\n",
       "    </tr>\n",
       "    <tr>\n",
       "      <th>1</th>\n",
       "      <td>19759708</td>\n",
       "      <td>70</td>\n",
       "      <td>32</td>\n",
       "      <td>29</td>\n",
       "      <td>0</td>\n",
       "      <td>0</td>\n",
       "      <td>0</td>\n",
       "      <td>0</td>\n",
       "      <td>1</td>\n",
       "      <td>14</td>\n",
       "      <td>...</td>\n",
       "      <td>0</td>\n",
       "      <td>0</td>\n",
       "      <td>10</td>\n",
       "      <td>0</td>\n",
       "      <td>0</td>\n",
       "      <td>0</td>\n",
       "      <td>0</td>\n",
       "      <td>0</td>\n",
       "      <td>1</td>\n",
       "      <td>1</td>\n",
       "    </tr>\n",
       "    <tr>\n",
       "      <th>2</th>\n",
       "      <td>19659939</td>\n",
       "      <td>50</td>\n",
       "      <td>31</td>\n",
       "      <td>51</td>\n",
       "      <td>0</td>\n",
       "      <td>1</td>\n",
       "      <td>0</td>\n",
       "      <td>0</td>\n",
       "      <td>0</td>\n",
       "      <td>16</td>\n",
       "      <td>...</td>\n",
       "      <td>0</td>\n",
       "      <td>0</td>\n",
       "      <td>6</td>\n",
       "      <td>0</td>\n",
       "      <td>0</td>\n",
       "      <td>0</td>\n",
       "      <td>0</td>\n",
       "      <td>0</td>\n",
       "      <td>1</td>\n",
       "      <td>1</td>\n",
       "    </tr>\n",
       "    <tr>\n",
       "      <th>3</th>\n",
       "      <td>19717414</td>\n",
       "      <td>50</td>\n",
       "      <td>40</td>\n",
       "      <td>75</td>\n",
       "      <td>0</td>\n",
       "      <td>0</td>\n",
       "      <td>0</td>\n",
       "      <td>0</td>\n",
       "      <td>1</td>\n",
       "      <td>8</td>\n",
       "      <td>...</td>\n",
       "      <td>0</td>\n",
       "      <td>0</td>\n",
       "      <td>10</td>\n",
       "      <td>0</td>\n",
       "      <td>1</td>\n",
       "      <td>0</td>\n",
       "      <td>0</td>\n",
       "      <td>0</td>\n",
       "      <td>0</td>\n",
       "      <td>1</td>\n",
       "    </tr>\n",
       "    <tr>\n",
       "      <th>4</th>\n",
       "      <td>19507708</td>\n",
       "      <td>40</td>\n",
       "      <td>31</td>\n",
       "      <td>130</td>\n",
       "      <td>0</td>\n",
       "      <td>0</td>\n",
       "      <td>0</td>\n",
       "      <td>0</td>\n",
       "      <td>1</td>\n",
       "      <td>17</td>\n",
       "      <td>...</td>\n",
       "      <td>0</td>\n",
       "      <td>0</td>\n",
       "      <td>8</td>\n",
       "      <td>0</td>\n",
       "      <td>0</td>\n",
       "      <td>0</td>\n",
       "      <td>0</td>\n",
       "      <td>0</td>\n",
       "      <td>1</td>\n",
       "      <td>0</td>\n",
       "    </tr>\n",
       "    <tr>\n",
       "      <th>...</th>\n",
       "      <td>...</td>\n",
       "      <td>...</td>\n",
       "      <td>...</td>\n",
       "      <td>...</td>\n",
       "      <td>...</td>\n",
       "      <td>...</td>\n",
       "      <td>...</td>\n",
       "      <td>...</td>\n",
       "      <td>...</td>\n",
       "      <td>...</td>\n",
       "      <td>...</td>\n",
       "      <td>...</td>\n",
       "      <td>...</td>\n",
       "      <td>...</td>\n",
       "      <td>...</td>\n",
       "      <td>...</td>\n",
       "      <td>...</td>\n",
       "      <td>...</td>\n",
       "      <td>...</td>\n",
       "      <td>...</td>\n",
       "      <td>...</td>\n",
       "    </tr>\n",
       "    <tr>\n",
       "      <th>13036</th>\n",
       "      <td>19718525</td>\n",
       "      <td>45</td>\n",
       "      <td>4</td>\n",
       "      <td>87</td>\n",
       "      <td>0</td>\n",
       "      <td>1</td>\n",
       "      <td>0</td>\n",
       "      <td>0</td>\n",
       "      <td>0</td>\n",
       "      <td>15</td>\n",
       "      <td>...</td>\n",
       "      <td>0</td>\n",
       "      <td>0</td>\n",
       "      <td>6</td>\n",
       "      <td>0</td>\n",
       "      <td>0</td>\n",
       "      <td>0</td>\n",
       "      <td>0</td>\n",
       "      <td>0</td>\n",
       "      <td>1</td>\n",
       "      <td>1</td>\n",
       "    </tr>\n",
       "    <tr>\n",
       "      <th>13037</th>\n",
       "      <td>19532067</td>\n",
       "      <td>25</td>\n",
       "      <td>37</td>\n",
       "      <td>37</td>\n",
       "      <td>0</td>\n",
       "      <td>0</td>\n",
       "      <td>0</td>\n",
       "      <td>0</td>\n",
       "      <td>1</td>\n",
       "      <td>7</td>\n",
       "      <td>...</td>\n",
       "      <td>0</td>\n",
       "      <td>0</td>\n",
       "      <td>10</td>\n",
       "      <td>0</td>\n",
       "      <td>0</td>\n",
       "      <td>0</td>\n",
       "      <td>0</td>\n",
       "      <td>0</td>\n",
       "      <td>1</td>\n",
       "      <td>1</td>\n",
       "    </tr>\n",
       "    <tr>\n",
       "      <th>13038</th>\n",
       "      <td>19653698</td>\n",
       "      <td>60</td>\n",
       "      <td>19</td>\n",
       "      <td>36</td>\n",
       "      <td>0</td>\n",
       "      <td>0</td>\n",
       "      <td>0</td>\n",
       "      <td>0</td>\n",
       "      <td>1</td>\n",
       "      <td>18</td>\n",
       "      <td>...</td>\n",
       "      <td>0</td>\n",
       "      <td>0</td>\n",
       "      <td>6</td>\n",
       "      <td>0</td>\n",
       "      <td>0</td>\n",
       "      <td>0</td>\n",
       "      <td>0</td>\n",
       "      <td>0</td>\n",
       "      <td>1</td>\n",
       "      <td>1</td>\n",
       "    </tr>\n",
       "    <tr>\n",
       "      <th>13039</th>\n",
       "      <td>19681275</td>\n",
       "      <td>50</td>\n",
       "      <td>65</td>\n",
       "      <td>39</td>\n",
       "      <td>0</td>\n",
       "      <td>0</td>\n",
       "      <td>0</td>\n",
       "      <td>0</td>\n",
       "      <td>1</td>\n",
       "      <td>5</td>\n",
       "      <td>...</td>\n",
       "      <td>0</td>\n",
       "      <td>0</td>\n",
       "      <td>6</td>\n",
       "      <td>0</td>\n",
       "      <td>1</td>\n",
       "      <td>0</td>\n",
       "      <td>0</td>\n",
       "      <td>0</td>\n",
       "      <td>0</td>\n",
       "      <td>0</td>\n",
       "    </tr>\n",
       "    <tr>\n",
       "      <th>13040</th>\n",
       "      <td>19515157</td>\n",
       "      <td>45</td>\n",
       "      <td>25</td>\n",
       "      <td>37</td>\n",
       "      <td>0</td>\n",
       "      <td>0</td>\n",
       "      <td>0</td>\n",
       "      <td>0</td>\n",
       "      <td>1</td>\n",
       "      <td>16</td>\n",
       "      <td>...</td>\n",
       "      <td>0</td>\n",
       "      <td>0</td>\n",
       "      <td>6</td>\n",
       "      <td>1</td>\n",
       "      <td>0</td>\n",
       "      <td>0</td>\n",
       "      <td>0</td>\n",
       "      <td>0</td>\n",
       "      <td>0</td>\n",
       "      <td>0</td>\n",
       "    </tr>\n",
       "  </tbody>\n",
       "</table>\n",
       "<p>13041 rows × 34 columns</p>\n",
       "</div>"
      ],
      "text/plain": [
       "       Crash ID  Speed Limit  Person Age    y  \\\n",
       "0      19757646           40           7   96   \n",
       "1      19759708           70          32   29   \n",
       "2      19659939           50          31   51   \n",
       "3      19717414           50          40   75   \n",
       "4      19507708           40          31  130   \n",
       "...         ...          ...         ...  ...   \n",
       "13036  19718525           45           4   87   \n",
       "13037  19532067           25          37   37   \n",
       "13038  19653698           60          19   36   \n",
       "13039  19681275           50          65   39   \n",
       "13040  19515157           45          25   37   \n",
       "\n",
       "       Crash Severity_A - SUSPECTED SERIOUS INJURY  \\\n",
       "0                                                0   \n",
       "1                                                0   \n",
       "2                                                0   \n",
       "3                                                0   \n",
       "4                                                0   \n",
       "...                                            ...   \n",
       "13036                                            0   \n",
       "13037                                            0   \n",
       "13038                                            0   \n",
       "13039                                            0   \n",
       "13040                                            0   \n",
       "\n",
       "       Crash Severity_B - SUSPECTED MINOR INJURY  \\\n",
       "0                                              0   \n",
       "1                                              0   \n",
       "2                                              1   \n",
       "3                                              0   \n",
       "4                                              0   \n",
       "...                                          ...   \n",
       "13036                                          1   \n",
       "13037                                          0   \n",
       "13038                                          0   \n",
       "13039                                          0   \n",
       "13040                                          0   \n",
       "\n",
       "       Crash Severity_C - POSSIBLE INJURY  Crash Severity_K - FATAL INJURY  \\\n",
       "0                                       0                                0   \n",
       "1                                       0                                0   \n",
       "2                                       0                                0   \n",
       "3                                       0                                0   \n",
       "4                                       0                                0   \n",
       "...                                   ...                              ...   \n",
       "13036                                   0                                0   \n",
       "13037                                   0                                0   \n",
       "13038                                   0                                0   \n",
       "13039                                   0                                0   \n",
       "13040                                   0                                0   \n",
       "\n",
       "       Crash Severity_N - NOT INJURED  Hour  ...  Weather Condition_3 - RAIN  \\\n",
       "0                                   1    16  ...                           0   \n",
       "1                                   1    14  ...                           0   \n",
       "2                                   0    16  ...                           0   \n",
       "3                                   1     8  ...                           0   \n",
       "4                                   1    17  ...                           0   \n",
       "...                               ...   ...  ...                         ...   \n",
       "13036                               0    15  ...                           0   \n",
       "13037                               1     7  ...                           0   \n",
       "13038                               1    18  ...                           0   \n",
       "13039                               1     5  ...                           0   \n",
       "13040                               1    16  ...                           0   \n",
       "\n",
       "       Weather Condition_6 - FOG  Vehicle Body Style Labels  \\\n",
       "0                              0                          1   \n",
       "1                              0                         10   \n",
       "2                              0                          6   \n",
       "3                              0                         10   \n",
       "4                              0                          8   \n",
       "...                          ...                        ...   \n",
       "13036                          0                          6   \n",
       "13037                          0                         10   \n",
       "13038                          0                          6   \n",
       "13039                          0                          6   \n",
       "13040                          0                          6   \n",
       "\n",
       "       Person Ethnicity_A - ASIAN  Person Ethnicity_B - BLACK  \\\n",
       "0                               0                           0   \n",
       "1                               0                           0   \n",
       "2                               0                           0   \n",
       "3                               0                           1   \n",
       "4                               0                           0   \n",
       "...                           ...                         ...   \n",
       "13036                           0                           0   \n",
       "13037                           0                           0   \n",
       "13038                           0                           0   \n",
       "13039                           0                           1   \n",
       "13040                           1                           0   \n",
       "\n",
       "       Person Ethnicity_H - HISPANIC  \\\n",
       "0                                  0   \n",
       "1                                  0   \n",
       "2                                  0   \n",
       "3                                  0   \n",
       "4                                  0   \n",
       "...                              ...   \n",
       "13036                              0   \n",
       "13037                              0   \n",
       "13038                              0   \n",
       "13039                              0   \n",
       "13040                              0   \n",
       "\n",
       "       Person Ethnicity_I - AMER. INDIAN/ALASKAN NATIVE  \\\n",
       "0                                                     0   \n",
       "1                                                     0   \n",
       "2                                                     0   \n",
       "3                                                     0   \n",
       "4                                                     0   \n",
       "...                                                 ...   \n",
       "13036                                                 0   \n",
       "13037                                                 0   \n",
       "13038                                                 0   \n",
       "13039                                                 0   \n",
       "13040                                                 0   \n",
       "\n",
       "       Person Ethnicity_OTHER  Person Ethnicity_W - WHITE  \\\n",
       "0                           0                           1   \n",
       "1                           0                           1   \n",
       "2                           0                           1   \n",
       "3                           0                           0   \n",
       "4                           0                           1   \n",
       "...                       ...                         ...   \n",
       "13036                       0                           1   \n",
       "13037                       0                           1   \n",
       "13038                       0                           1   \n",
       "13039                       0                           0   \n",
       "13040                       0                           0   \n",
       "\n",
       "       Person Gender_2 - FEMALE  \n",
       "0                             0  \n",
       "1                             1  \n",
       "2                             1  \n",
       "3                             1  \n",
       "4                             0  \n",
       "...                         ...  \n",
       "13036                         1  \n",
       "13037                         1  \n",
       "13038                         1  \n",
       "13039                         0  \n",
       "13040                         0  \n",
       "\n",
       "[13041 rows x 34 columns]"
      ]
     },
     "execution_count": 656,
     "metadata": {},
     "output_type": "execute_result"
    }
   ],
   "source": [
    "reg_train"
   ]
  },
  {
   "cell_type": "code",
   "execution_count": 657,
   "id": "03ee08ee",
   "metadata": {},
   "outputs": [],
   "source": [
    "from sklearn.preprocessing import StandardScaler\n",
    "\n",
    "# Assuming X_train is your feature matrix for regression_train dataset\n",
    "scaler = StandardScaler()\n",
    "y=reg_train['y']\n",
    "reg_train_1=reg_train.drop('y', axis=1, inplace=True)\n",
    "X_train_scaled = scaler.fit_transform(reg_train)\n"
   ]
  },
  {
   "cell_type": "code",
   "execution_count": 740,
   "id": "ef0d64fb",
   "metadata": {},
   "outputs": [],
   "source": [
    "from sklearn.cluster import KMeans\n",
    "\n",
    "# Assuming X_train_scaled is your scaled feature matrix\n",
    "kmeans = KMeans(n_clusters=3, random_state=42)  # You can choose an appropriate number of clusters\n",
    "kmeans.fit(X_train_scaled)\n",
    "\n",
    "# Get cluster labels for each data point\n",
    "cluster_labels = kmeans.labels_\n"
   ]
  },
  {
   "cell_type": "code",
   "execution_count": 660,
   "id": "0d7f2c29",
   "metadata": {},
   "outputs": [
    {
     "name": "stdout",
     "output_type": "stream",
     "text": [
      "Cluster Centers:\n",
      "[[ 1.96215502e+07  4.60102431e+01  3.57222137e+01  2.59899098e-02\n",
      "   1.47836722e-01  1.38969577e-01  3.05763645e-03  6.77878000e-01\n",
      "   1.40333282e+01  2.70123834e+01  0.00000000e+00  1.31631249e-01\n",
      "   1.19247821e-01  8.82128115e-02  1.40192631e-01  1.28267849e-01\n",
      "   1.29490904e-01  1.96541813e+01  2.47668552e-02  9.17290934e-04\n",
      "   7.64409112e-04  7.64409112e-04  9.26463843e-02 -5.96744876e-16\n",
      "   3.05763645e-04  7.84574224e+00  3.60822483e-16 -1.97064587e-15\n",
      "  -3.30291350e-15  1.12757026e-17  7.97972799e-16  1.00000000e+00\n",
      "   4.16908730e-01]\n",
      " [ 1.96238923e+07  4.50546366e+01  3.15852966e+01  2.25563910e-02\n",
      "   1.40016708e-01  1.47702590e-01  3.34168755e-03  6.53801170e-01\n",
      "   1.42364244e+01  2.67249791e+01  0.00000000e+00  1.32330827e-01\n",
      "   1.26984127e-01  1.06599833e-01  1.35004177e-01  1.26482874e-01\n",
      "   1.30492899e-01  1.95715957e+01  3.02422723e-02  3.34168755e-04\n",
      "   1.00250627e-03  1.00250627e-03  9.82456140e-02 -4.02455846e-16\n",
      "   6.68337510e-04  7.64795322e+00  1.54051796e-01  2.91395155e-01\n",
      "   4.06683375e-01  1.65413534e-02  1.20969089e-01 -6.43929354e-15\n",
      "   3.53216374e-01]\n",
      " [ 1.95942696e+07  5.82621359e+01  3.21145631e+01  9.70873786e-03\n",
      "   1.78640777e-01  1.32038835e-01 -3.46944695e-18  6.62135922e-01\n",
      "   1.39825243e+01  2.64621359e+01  0.00000000e+00  8.15533981e-02\n",
      "   5.43689320e-02  3.78640777e-01  4.66019417e-02  1.24271845e-01\n",
      "   1.06796117e-01  2.16640777e+01  9.74757282e-01  1.74757282e-02\n",
      "   4.33680869e-19 -8.67361738e-19 -2.77555756e-17  9.94174757e-01\n",
      "   5.82524272e-03  7.84466019e+00  6.79611650e-02  1.49514563e-01\n",
      "   2.29126214e-01  1.94174757e-03  4.85436893e-02  4.99029126e-01\n",
      "   3.33980583e-01]]\n"
     ]
    }
   ],
   "source": [
    "print(\"Cluster Centers:\")\n",
    "print(scaler.inverse_transform(kmeans.cluster_centers_))\n"
   ]
  },
  {
   "cell_type": "code",
   "execution_count": 661,
   "id": "71a4371e",
   "metadata": {},
   "outputs": [
    {
     "name": "stdout",
     "output_type": "stream",
     "text": [
      "Cluster Centers:\n",
      "[[ 1.96215502e+07  4.60102431e+01  3.57222137e+01  2.59899098e-02\n",
      "   1.47836722e-01  1.38969577e-01  3.05763645e-03  6.77878000e-01\n",
      "   1.40333282e+01  2.70123834e+01  0.00000000e+00  1.31631249e-01\n",
      "   1.19247821e-01  8.82128115e-02  1.40192631e-01  1.28267849e-01\n",
      "   1.29490904e-01  1.96541813e+01  2.47668552e-02  9.17290934e-04\n",
      "   7.64409112e-04  7.64409112e-04  9.26463843e-02 -5.96744876e-16\n",
      "   3.05763645e-04  7.84574224e+00  3.60822483e-16 -1.97064587e-15\n",
      "  -3.30291350e-15  1.12757026e-17  7.97972799e-16  1.00000000e+00\n",
      "   4.16908730e-01]\n",
      " [ 1.96238923e+07  4.50546366e+01  3.15852966e+01  2.25563910e-02\n",
      "   1.40016708e-01  1.47702590e-01  3.34168755e-03  6.53801170e-01\n",
      "   1.42364244e+01  2.67249791e+01  0.00000000e+00  1.32330827e-01\n",
      "   1.26984127e-01  1.06599833e-01  1.35004177e-01  1.26482874e-01\n",
      "   1.30492899e-01  1.95715957e+01  3.02422723e-02  3.34168755e-04\n",
      "   1.00250627e-03  1.00250627e-03  9.82456140e-02 -4.02455846e-16\n",
      "   6.68337510e-04  7.64795322e+00  1.54051796e-01  2.91395155e-01\n",
      "   4.06683375e-01  1.65413534e-02  1.20969089e-01 -6.43929354e-15\n",
      "   3.53216374e-01]\n",
      " [ 1.95942696e+07  5.82621359e+01  3.21145631e+01  9.70873786e-03\n",
      "   1.78640777e-01  1.32038835e-01 -3.46944695e-18  6.62135922e-01\n",
      "   1.39825243e+01  2.64621359e+01  0.00000000e+00  8.15533981e-02\n",
      "   5.43689320e-02  3.78640777e-01  4.66019417e-02  1.24271845e-01\n",
      "   1.06796117e-01  2.16640777e+01  9.74757282e-01  1.74757282e-02\n",
      "   4.33680869e-19 -8.67361738e-19 -2.77555756e-17  9.94174757e-01\n",
      "   5.82524272e-03  7.84466019e+00  6.79611650e-02  1.49514563e-01\n",
      "   2.29126214e-01  1.94174757e-03  4.85436893e-02  4.99029126e-01\n",
      "   3.33980583e-01]]\n"
     ]
    }
   ],
   "source": [
    "print(\"Cluster Centers:\")\n",
    "print(scaler.inverse_transform(kmeans.cluster_centers_))\n"
   ]
  },
  {
   "cell_type": "code",
   "execution_count": 662,
   "id": "bd71f3a5",
   "metadata": {},
   "outputs": [
    {
     "data": {
      "image/png": "[encoded data removed]",
      "text/plain": [
       "<Figure size 432x288 with 1 Axes>"
      ]
     },
     "metadata": {
      "needs_background": "light"
     },
     "output_type": "display_data"
    }
   ],
   "source": [
    "\n",
    "sns.scatterplot(x=X_train_scaled[:, 0], y=X_train_scaled[:, 1], hue=cluster_labels, palette='viridis')\n",
    "plt.title('Cluster Visualization')\n",
    "plt.xlabel('Feature 1')\n",
    "plt.ylabel('Feature 2')\n",
    "plt.show()\n"
   ]
  },
  {
   "cell_type": "markdown",
   "id": "0f63d397",
   "metadata": {},
   "source": [
    "#### function for preprocessing data for models:"
   ]
  },
  {
   "cell_type": "code",
   "execution_count": 726,
   "id": "12cf0249",
   "metadata": {},
   "outputs": [],
   "source": [
    "def reg_test_data(reg_train):\n",
    "    reg_train['Crash Severity'].fillna(reg_train['Crash Severity'].mode()[0], inplace=True)\n",
    "    reg_train = pd.get_dummies(reg_train, columns=['Crash Severity'], drop_first=True)\n",
    "    \n",
    "    reg_train['Crash Time'].fillna(reg_train['Crash Time'].mode()[0], inplace=True)\n",
    "    reg_train['Crash Time'] = pd.to_datetime(reg_train['Crash Time'])\n",
    "    reg_train['Hour'] = reg_train['Crash Time'].dt.hour\n",
    "    reg_train['Minute'] = reg_train['Crash Time'].dt.minute\n",
    "    reg_train['Second'] = reg_train['Crash Time'].dt.second\n",
    "    reg_train.drop('Crash Time', axis=1, inplace=True)\n",
    "    \n",
    "    reg_train['Day of Week'].fillna(reg_train['Day of Week'].mode()[0], inplace=True)\n",
    "    reg_train = pd.get_dummies(reg_train, columns=['Day of Week'], drop_first=True)\n",
    "    \n",
    "    reg_train['Manner of Collision Labels'] = reg_train['Manner of Collision'].astype('category').cat.codes\n",
    "    reg_train.drop('Manner of Collision', axis=1, inplace=True)\n",
    "    \n",
    "    reg_train['Surface Condition'].fillna(reg_train['Surface Condition'].mode()[0], inplace=True)\n",
    "    reg_train['Surface Condition'] = reg_train['Surface Condition'].replace('99 - UNKNOWN', reg_train['Surface Condition'].mode()[0])\n",
    "    reg_train = pd.get_dummies(reg_train, columns=['Surface Condition'], drop_first=True)\n",
    "    \n",
    "    reg_train.drop('Surface Type', axis=1, inplace=True)\n",
    "    reg_train.drop('Surface Width', axis=1, inplace=True)\n",
    "\n",
    "    reg_train['Weather Condition'].fillna(reg_train['Weather Condition'].mode()[0], inplace=True)\n",
    "    reg_train['Weather Condition'] = reg_train['Weather Condition'].replace('98 - OTHER (EXPLAIN IN NARRATIVE)', reg_train['Weather Condition'].mode()[0])\n",
    "    reg_train['Weather Condition'] = reg_train['Weather Condition'].replace('99 - UNKNOWN', reg_train['Weather Condition'].mode()[0])\n",
    "    reg_train = pd.get_dummies(reg_train, columns=['Weather Condition'], drop_first=True)\n",
    "    \n",
    "    reg_train['Vehicle Body Style'].fillna(reg_train['Vehicle Body Style'].mode()[0], inplace=True)\n",
    "    reg_train['Vehicle Body Style'] = reg_train['Vehicle Body Style'].replace('99 - UNKNOWN', reg_train['Vehicle Body Style'].mode()[0])\n",
    "    reg_train['Vehicle Body Style'] = reg_train['Vehicle Body Style'].replace('98 - OTHER  (EXPLAIN IN NARRATIVE)', reg_train['Vehicle Body Style'].mode()[0])\n",
    "    reg_train['Vehicle Body Style'] = reg_train['Vehicle Body Style'].replace('No Data', reg_train['Vehicle Body Style'].mode()[0])\n",
    "    reg_train['Vehicle Body Style Labels'] = reg_train['Vehicle Body Style'].astype('category').cat.codes\n",
    "    reg_train.drop('Vehicle Body Style', axis=1, inplace=True)\n",
    "    \n",
    "    reg_train['Person Age'] = reg_train['Person Age'].replace('No Data', np.nan)\n",
    "    reg_train['Person Age'].fillna(reg_train['Person Age'].median(), inplace=True)\n",
    "    reg_train['Person Age'] = pd.to_numeric(reg_train['Person Age'], errors='coerce').astype('Int64')\n",
    "    \n",
    "    reg_train.drop('Person Alcohol Result', axis=1, inplace=True)\n",
    "    reg_train.drop('Person Drug Test Result', axis=1, inplace=True)\n",
    "    \n",
    "    reg_train['Person Ethnicity'].fillna(reg_train['Person Ethnicity'].mode()[0], inplace=True)\n",
    "    reg_train['Person Ethnicity'] = reg_train['Person Ethnicity'].replace(['99 - UNKNOWN', 'No Data'], 'OTHER')\n",
    "    reg_train = pd.get_dummies(reg_train, columns=['Person Ethnicity'], drop_first=True)\n",
    "    \n",
    "    reg_train['Person Gender'].fillna(reg_train['Person Gender'].mode()[0], inplace=True)\n",
    "    reg_train['Person Gender'] = reg_train['Person Gender'].replace('99 - UNKNOWN', reg_train['Person Gender'].mode()[0])\n",
    "    reg_train = pd.get_dummies(reg_train, columns=['Person Gender'], drop_first=True)\n",
    "    \n",
    "    scaler = StandardScaler()\n",
    "    #y=reg_train['y']\n",
    "    #reg_train.drop('y', axis=1, inplace=True)\n",
    "    X_train_scaled = scaler.fit_transform(reg_train)\n",
    "    \n",
    "    return reg_train"
   ]
  },
  {
   "cell_type": "code",
   "execution_count": 727,
   "id": "0c68dc3c",
   "metadata": {},
   "outputs": [],
   "source": [
    "X_test = reg_test_data(reg_test)"
   ]
  },
  {
   "cell_type": "code",
   "execution_count": null,
   "id": "d34f6b66",
   "metadata": {},
   "outputs": [],
   "source": []
  },
  {
   "cell_type": "code",
   "execution_count": null,
   "id": "546e2f29",
   "metadata": {},
   "outputs": [],
   "source": []
  },
  {
   "cell_type": "markdown",
   "id": "e8a261a9",
   "metadata": {},
   "source": [
    "### Regression model training"
   ]
  },
  {
   "cell_type": "code",
   "execution_count": 733,
   "id": "a1073d5f",
   "metadata": {},
   "outputs": [],
   "source": [
    "from sklearn.model_selection import train_test_split\n",
    "\n",
    "X_train, X_test, y_train, y_test = train_test_split(X_train_scaled, y, test_size=0.2, random_state=42)\n"
   ]
  },
  {
   "cell_type": "code",
   "execution_count": 664,
   "id": "3da4bc84",
   "metadata": {},
   "outputs": [
    {
     "data": {
      "text/html": [
       "<style>#sk-container-id-3 {color: black;}#sk-container-id-3 pre{padding: 0;}#sk-container-id-3 div.sk-toggleable {background-color: white;}#sk-container-id-3 label.sk-toggleable__label {cursor: pointer;display: block;width: 100%;margin-bottom: 0;padding: 0.3em;box-sizing: border-box;text-align: center;}#sk-container-id-3 label.sk-toggleable__label-arrow:before {content: \"▸\";float: left;margin-right: 0.25em;color: #696969;}#sk-container-id-3 label.sk-toggleable__label-arrow:hover:before {color: black;}#sk-container-id-3 div.sk-estimator:hover label.sk-toggleable__label-arrow:before {color: black;}#sk-container-id-3 div.sk-toggleable__content {max-height: 0;max-width: 0;overflow: hidden;text-align: left;background-color: #f0f8ff;}#sk-container-id-3 div.sk-toggleable__content pre {margin: 0.2em;color: black;border-radius: 0.25em;background-color: #f0f8ff;}#sk-container-id-3 input.sk-toggleable__control:checked~div.sk-toggleable__content {max-height: 200px;max-width: 100%;overflow: auto;}#sk-container-id-3 input.sk-toggleable__control:checked~label.sk-toggleable__label-arrow:before {content: \"▾\";}#sk-container-id-3 div.sk-estimator input.sk-toggleable__control:checked~label.sk-toggleable__label {background-color: #d4ebff;}#sk-container-id-3 div.sk-label input.sk-toggleable__control:checked~label.sk-toggleable__label {background-color: #d4ebff;}#sk-container-id-3 input.sk-hidden--visually {border: 0;clip: rect(1px 1px 1px 1px);clip: rect(1px, 1px, 1px, 1px);height: 1px;margin: -1px;overflow: hidden;padding: 0;position: absolute;width: 1px;}#sk-container-id-3 div.sk-estimator {font-family: monospace;background-color: #f0f8ff;border: 1px dotted black;border-radius: 0.25em;box-sizing: border-box;margin-bottom: 0.5em;}#sk-container-id-3 div.sk-estimator:hover {background-color: #d4ebff;}#sk-container-id-3 div.sk-parallel-item::after {content: \"\";width: 100%;border-bottom: 1px solid gray;flex-grow: 1;}#sk-container-id-3 div.sk-label:hover label.sk-toggleable__label {background-color: #d4ebff;}#sk-container-id-3 div.sk-serial::before {content: \"\";position: absolute;border-left: 1px solid gray;box-sizing: border-box;top: 0;bottom: 0;left: 50%;z-index: 0;}#sk-container-id-3 div.sk-serial {display: flex;flex-direction: column;align-items: center;background-color: white;padding-right: 0.2em;padding-left: 0.2em;position: relative;}#sk-container-id-3 div.sk-item {position: relative;z-index: 1;}#sk-container-id-3 div.sk-parallel {display: flex;align-items: stretch;justify-content: center;background-color: white;position: relative;}#sk-container-id-3 div.sk-item::before, #sk-container-id-3 div.sk-parallel-item::before {content: \"\";position: absolute;border-left: 1px solid gray;box-sizing: border-box;top: 0;bottom: 0;left: 50%;z-index: -1;}#sk-container-id-3 div.sk-parallel-item {display: flex;flex-direction: column;z-index: 1;position: relative;background-color: white;}#sk-container-id-3 div.sk-parallel-item:first-child::after {align-self: flex-end;width: 50%;}#sk-container-id-3 div.sk-parallel-item:last-child::after {align-self: flex-start;width: 50%;}#sk-container-id-3 div.sk-parallel-item:only-child::after {width: 0;}#sk-container-id-3 div.sk-dashed-wrapped {border: 1px dashed gray;margin: 0 0.4em 0.5em 0.4em;box-sizing: border-box;padding-bottom: 0.4em;background-color: white;}#sk-container-id-3 div.sk-label label {font-family: monospace;font-weight: bold;display: inline-block;line-height: 1.2em;}#sk-container-id-3 div.sk-label-container {text-align: center;}#sk-container-id-3 div.sk-container {/* jupyter's `normalize.less` sets `[hidden] { display: none; }` but bootstrap.min.css set `[hidden] { display: none !important; }` so we also need the `!important` here to be able to override the default hidden behavior on the sphinx rendered scikit-learn.org. See: https://github.com/scikit-learn/scikit-learn/issues/21755 */display: inline-block !important;position: relative;}#sk-container-id-3 div.sk-text-repr-fallback {display: none;}</style><div id=\"sk-container-id-3\" class=\"sk-top-container\"><div class=\"sk-text-repr-fallback\"><pre>RandomForestRegressor()</pre><b>In a Jupyter environment, please rerun this cell to show the HTML representation or trust the notebook. <br />On GitHub, the HTML representation is unable to render, please try loading this page with nbviewer.org.</b></div><div class=\"sk-container\" hidden><div class=\"sk-item\"><div class=\"sk-estimator sk-toggleable\"><input class=\"sk-toggleable__control sk-hidden--visually\" id=\"sk-estimator-id-3\" type=\"checkbox\" checked><label for=\"sk-estimator-id-3\" class=\"sk-toggleable__label sk-toggleable__label-arrow\">RandomForestRegressor</label><div class=\"sk-toggleable__content\"><pre>RandomForestRegressor()</pre></div></div></div></div></div>"
      ],
      "text/plain": [
       "RandomForestRegressor()"
      ]
     },
     "execution_count": 664,
     "metadata": {},
     "output_type": "execute_result"
    }
   ],
   "source": [
    "from sklearn.linear_model import LinearRegression\n",
    "from sklearn.ensemble import RandomForestRegressor\n",
    "# ... other models\n",
    "\n",
    "# Example with Linear Regression\n",
    "model_lr = LinearRegression()\n",
    "model_lr.fit(X_train, y_train)\n",
    "\n",
    "# Example with Random Forest Regression\n",
    "model_rf = RandomForestRegressor()\n",
    "model_rf.fit(X_train, y_train)\n"
   ]
  },
  {
   "cell_type": "code",
   "execution_count": 665,
   "id": "85e74a35",
   "metadata": {},
   "outputs": [
    {
     "name": "stdout",
     "output_type": "stream",
     "text": [
      "Linear Regression - MSE: 7949.59114534477, MAE: 34.73774459271217, R-squared: 0.07316212272190847\n"
     ]
    }
   ],
   "source": [
    "from sklearn.metrics import mean_squared_error, mean_absolute_error, r2_score\n",
    "\n",
    "# Example with Linear Regression\n",
    "y_pred_lr = model_lr.predict(X_test)\n",
    "mse_lr = mean_squared_error(y_test, y_pred_lr)\n",
    "mae_lr = mean_absolute_error(y_test, y_pred_lr)\n",
    "r2_lr = r2_score(y_test, y_pred_lr)\n",
    "\n",
    "print(f\"Linear Regression - MSE: {mse_lr}, MAE: {mae_lr}, R-squared: {r2_lr}\")\n"
   ]
  },
  {
   "cell_type": "code",
   "execution_count": 666,
   "id": "abf623c6",
   "metadata": {},
   "outputs": [],
   "source": [
    "from sklearn.model_selection import GridSearchCV\n",
    "\n",
    "# Example with Random Forest Regression and Grid Search\n",
    "param_grid_rf = {\n",
    "    'n_estimators': [50, 100, 200],\n",
    "    'max_depth': [None, 10, 20],\n",
    "    'min_samples_split': [2, 5, 10],\n",
    "    'min_samples_leaf': [1, 2, 4]\n",
    "}\n",
    "\n",
    "grid_search_rf = GridSearchCV(RandomForestRegressor(), param_grid_rf, cv=5, scoring='neg_mean_squared_error')\n",
    "grid_search_rf.fit(X_train, y_train)\n",
    "\n",
    "best_params_rf = grid_search_rf.best_params_\n",
    "best_model_rf = grid_search_rf.best_estimator_\n"
   ]
  },
  {
   "cell_type": "code",
   "execution_count": 667,
   "id": "31c78540",
   "metadata": {},
   "outputs": [
    {
     "data": {
      "text/plain": [
       "{'max_depth': None,\n",
       " 'min_samples_leaf': 1,\n",
       " 'min_samples_split': 2,\n",
       " 'n_estimators': 200}"
      ]
     },
     "execution_count": 667,
     "metadata": {},
     "output_type": "execute_result"
    }
   ],
   "source": [
    "best_params_rf"
   ]
  },
  {
   "cell_type": "code",
   "execution_count": 668,
   "id": "611c5458",
   "metadata": {},
   "outputs": [
    {
     "name": "stdout",
     "output_type": "stream",
     "text": [
      "Tuned Random Forest - MSE: 7479.2694733806065, MAE: 29.926259103104638, R-squared: 0.12799663334154143\n"
     ]
    }
   ],
   "source": [
    "# Example with the best Random Forest model from the grid search\n",
    "y_pred_rf_tuned = best_model_rf.predict(X_test)\n",
    "mse_rf_tuned = mean_squared_error(y_test, y_pred_rf_tuned)\n",
    "mae_rf_tuned = mean_absolute_error(y_test, y_pred_rf_tuned)\n",
    "r2_rf_tuned = r2_score(y_test, y_pred_rf_tuned)\n",
    "\n",
    "print(f\"Tuned Random Forest - MSE: {mse_rf_tuned}, MAE: {mae_rf_tuned}, R-squared: {r2_rf_tuned}\")\n"
   ]
  },
  {
   "cell_type": "code",
   "execution_count": null,
   "id": "dd5f1174",
   "metadata": {},
   "outputs": [],
   "source": []
  },
  {
   "cell_type": "code",
   "execution_count": null,
   "id": "41015661",
   "metadata": {},
   "outputs": [],
   "source": []
  },
  {
   "cell_type": "markdown",
   "id": "d12a2d04",
   "metadata": {},
   "source": [
    "### Regression prediction"
   ]
  },
  {
   "cell_type": "code",
   "execution_count": 736,
   "id": "681f4e4b",
   "metadata": {},
   "outputs": [],
   "source": [
    "from sklearn.metrics import mean_squared_error, mean_absolute_error, r2_score"
   ]
  },
  {
   "cell_type": "code",
   "execution_count": 737,
   "id": "fe63731d",
   "metadata": {},
   "outputs": [
    {
     "name": "stdout",
     "output_type": "stream",
     "text": [
      "Mean Squared Error: 7949.59114534477\n",
      "Mean Absolute Error: 34.73774459271217\n",
      "R-squared: 0.07316212272190847\n"
     ]
    }
   ],
   "source": [
    "y_pred = model_lr.predict(X_test)\n",
    "\n",
    "# Evaluate the performance\n",
    "mse = mean_squared_error(y_test, y_pred)\n",
    "mae = mean_absolute_error(y_test, y_pred)\n",
    "r2 = r2_score(y_test, y_pred)\n",
    "\n",
    "# Print the evaluation metrics\n",
    "print(f\"Mean Squared Error: {mse}\")\n",
    "print(f\"Mean Absolute Error: {mae}\")\n",
    "print(f\"R-squared: {r2}\")\n"
   ]
  },
  {
   "cell_type": "code",
   "execution_count": 741,
   "id": "3699ccc9",
   "metadata": {},
   "outputs": [
    {
     "data": {
      "text/plain": [
       "array([47.28446772, 60.4807007 , 85.22974607, ..., 68.1870465 ,\n",
       "       64.5041351 , 55.84002076])"
      ]
     },
     "execution_count": 741,
     "metadata": {},
     "output_type": "execute_result"
    }
   ],
   "source": [
    "predictions_lr = model_lr.predict(X_test)\n",
    "predictions_lr"
   ]
  },
  {
   "cell_type": "code",
   "execution_count": 742,
   "id": "f12da924",
   "metadata": {},
   "outputs": [
    {
     "data": {
      "text/plain": [
       "array([ 58.45,  51.56, 115.2 , ...,  74.78,  80.55, 101.96])"
      ]
     },
     "execution_count": 742,
     "metadata": {},
     "output_type": "execute_result"
    }
   ],
   "source": [
    "predictions_rf = model_rf.predict(X_test)\n",
    "predictions_rf"
   ]
  },
  {
   "cell_type": "code",
   "execution_count": 738,
   "id": "93a6cf2d",
   "metadata": {},
   "outputs": [
    {
     "name": "stdout",
     "output_type": "stream",
     "text": [
      "Mean Squared Error: 7518.213780337294\n",
      "Mean Absolute Error: 29.939620544269836\n",
      "R-squared: 0.12345614086439816\n"
     ]
    }
   ],
   "source": [
    "y_pred = model_rf.predict(X_test)\n",
    "\n",
    "# Evaluate the performance\n",
    "mse = mean_squared_error(y_test, y_pred)\n",
    "mae = mean_absolute_error(y_test, y_pred)\n",
    "r2 = r2_score(y_test, y_pred)\n",
    "\n",
    "# Print the evaluation metrics\n",
    "print(f\"Mean Squared Error: {mse}\")\n",
    "print(f\"Mean Absolute Error: {mae}\")\n",
    "print(f\"R-squared: {r2}\")\n",
    "\n"
   ]
  }
 ],
 "metadata": {
  "kernelspec": {
   "display_name": "Python 3 (ipykernel)",
   "language": "python",
   "name": "python3"
  },
  "language_info": {
   "codemirror_mode": {
    "name": "ipython",
    "version": 3
   },
   "file_extension": ".py",
   "mimetype": "text/x-python",
   "name": "python",
   "nbconvert_exporter": "python",
   "pygments_lexer": "ipython3",
   "version": "3.12.4"
  }
 },
 "nbformat": 4,
 "nbformat_minor": 5
}
